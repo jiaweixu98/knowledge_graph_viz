{
 "cells": [
  {
   "cell_type": "code",
   "execution_count": null,
   "metadata": {},
   "outputs": [],
   "source": [
    "# get top papsers; used for GPT calling.\n",
    "\n",
    "file_path = '/home/jx4237/projects/web_page/cm4ai_tkg_oct/work/data/author_dataset_filtered.csv'\n",
    "import pandas as pd\n",
    "meta = pd.read_csv(file_path)"
   ]
  },
  {
   "cell_type": "code",
   "execution_count": 3,
   "metadata": {},
   "outputs": [],
   "source": [
    "Papers_2m = pd.read_csv('/data/jx4237data/TKG/TKG_JCDL/Bridge2AI_2m/Papers_2m.csv.gz')"
   ]
  },
  {
   "cell_type": "code",
   "execution_count": 6,
   "metadata": {},
   "outputs": [],
   "source": [
    "paper_author = pd.read_csv('/data/jx4237data/TKG/TKG_JCDL/Bridge2AI_2m/paper_author40k.csv.gz')"
   ]
  },
  {
   "cell_type": "code",
   "execution_count": 16,
   "metadata": {},
   "outputs": [],
   "source": [
    "# Pre-merge the data and sort\n",
    "paper_author_merged = paper_author.merge(Papers_2m[['PMID', 'PubYear', 'citation_count']], on=['PMID', 'PubYear'], how='inner')\n",
    "\n",
    "# Separate the papers from 2017 onwards for citation sorting\n",
    "paper_author_since_2017 = paper_author_merged[paper_author_merged['PubYear'] >= 2017]\n",
    "\n",
    "# Sort the DataFrames once by necessary criteria\n",
    "recent_sorted = paper_author_merged.sort_values(by=['AID', 'PubYear', 'PMID'], ascending=[True, False, True])\n",
    "cited_sorted = paper_author_since_2017.sort_values(by=['AID', 'citation_count', 'PubYear', 'PMID'], ascending=[True, False, False, True])\n",
    "\n",
    "# Get the top 5 recent and 5 most cited papers for each author\n",
    "top_recent = recent_sorted.groupby('AID').head(5)\n",
    "top_cited = cited_sorted.groupby('AID').head(5)\n",
    "\n",
    "# Combine the results and remove duplicates\n",
    "combined_papers = pd.concat([top_recent, top_cited]).drop_duplicates(subset=['AID', 'PMID'])\n",
    "\n",
    "# Aggregate PMIDs into a comma-separated string for each author\n",
    "pmids_strings = combined_papers.groupby('AID')['PMID'].apply(lambda pmids: ','.join(map(str, pmids)))\n",
    "\n",
    "# Merge the pmids_string back to the meta DataFrame\n",
    "meta = meta.merge(pmids_strings.rename('pmids_string'), left_on='id', right_index=True, how='left')"
   ]
  },
  {
   "cell_type": "code",
   "execution_count": 18,
   "metadata": {},
   "outputs": [],
   "source": [
    "meta.to_csv('/home/jx4237/projects/web_page/cm4ai_tkg_oct/work/data/author_dataset_filtered.csv', index=False)"
   ]
  }
 ],
 "metadata": {
  "kernelspec": {
   "display_name": "sprout-env",
   "language": "python",
   "name": "python3"
  },
  "language_info": {
   "codemirror_mode": {
    "name": "ipython",
    "version": 3
   },
   "file_extension": ".py",
   "mimetype": "text/x-python",
   "name": "python",
   "nbconvert_exporter": "python",
   "pygments_lexer": "ipython3",
   "version": "3.10.13"
  }
 },
 "nbformat": 4,
 "nbformat_minor": 2
}
