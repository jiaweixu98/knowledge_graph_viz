{
 "cells": [
  {
   "cell_type": "code",
   "execution_count": 1,
   "metadata": {},
   "outputs": [],
   "source": [
    "import pandas as pd\n",
    "pmid_dataset = pd.read_csv('/data/jx4237data/TKG/TKG_JCDL/Bridge2AI_2m/pmid_dataset.csv.gz')"
   ]
  },
  {
   "cell_type": "code",
   "execution_count": 7,
   "metadata": {},
   "outputs": [],
   "source": [
    "paper_bioentity = pd.read_csv('/data/jx4237data/TKG/TKG_JCDL/Bridge2AI_2m/paper_bioentity_95_with_url_deduplicated.csv.gz', dtype=str)"
   ]
  },
  {
   "cell_type": "code",
   "execution_count": 21,
   "metadata": {},
   "outputs": [
    {
     "data": {
      "text/html": [
       "<div>\n",
       "<style scoped>\n",
       "    .dataframe tbody tr th:only-of-type {\n",
       "        vertical-align: middle;\n",
       "    }\n",
       "\n",
       "    .dataframe tbody tr th {\n",
       "        vertical-align: top;\n",
       "    }\n",
       "\n",
       "    .dataframe thead th {\n",
       "        text-align: right;\n",
       "    }\n",
       "</style>\n",
       "<table border=\"1\" class=\"dataframe\">\n",
       "  <thead>\n",
       "    <tr style=\"text-align: right;\">\n",
       "      <th></th>\n",
       "      <th>PMID</th>\n",
       "      <th>Mention</th>\n",
       "      <th>Type</th>\n",
       "      <th>prob</th>\n",
       "      <th>EntityId</th>\n",
       "      <th>url</th>\n",
       "    </tr>\n",
       "  </thead>\n",
       "  <tbody>\n",
       "    <tr>\n",
       "      <th>0</th>\n",
       "      <td>5</td>\n",
       "      <td>myohemerythrin</td>\n",
       "      <td>gene</td>\n",
       "      <td>0.973336935043335</td>\n",
       "      <td>NCBIGene3048</td>\n",
       "      <td>https://bioregistry.io/NCBIGene:3048</td>\n",
       "    </tr>\n",
       "    <tr>\n",
       "      <th>1</th>\n",
       "      <td>5</td>\n",
       "      <td>hemerythrin</td>\n",
       "      <td>gene</td>\n",
       "      <td>0.9804603457450868</td>\n",
       "      <td>NCBIGene7248</td>\n",
       "      <td>https://bioregistry.io/NCBIGene:7248</td>\n",
       "    </tr>\n",
       "    <tr>\n",
       "      <th>2</th>\n",
       "      <td>55</td>\n",
       "      <td>yeast glyceraldehyde-3-phosphate dehydrogenase</td>\n",
       "      <td>gene</td>\n",
       "      <td>0.9855808615684508</td>\n",
       "      <td>NCBIGene26330</td>\n",
       "      <td>https://bioregistry.io/NCBIGene:26330</td>\n",
       "    </tr>\n",
       "    <tr>\n",
       "      <th>3</th>\n",
       "      <td>55</td>\n",
       "      <td>yeast</td>\n",
       "      <td>species</td>\n",
       "      <td>0.9947445392608644</td>\n",
       "      <td>NCBITaxon4932</td>\n",
       "      <td>https://bioregistry.io/NCBITaxon:4932</td>\n",
       "    </tr>\n",
       "    <tr>\n",
       "      <th>4</th>\n",
       "      <td>55</td>\n",
       "      <td>glyceraldehyde-3-phosphate</td>\n",
       "      <td>drug</td>\n",
       "      <td>0.963684380054474</td>\n",
       "      <td>meshD005986</td>\n",
       "      <td>https://bioregistry.io/mesh:D005986</td>\n",
       "    </tr>\n",
       "    <tr>\n",
       "      <th>...</th>\n",
       "      <td>...</td>\n",
       "      <td>...</td>\n",
       "      <td>...</td>\n",
       "      <td>...</td>\n",
       "      <td>...</td>\n",
       "      <td>...</td>\n",
       "    </tr>\n",
       "    <tr>\n",
       "      <th>10406111</th>\n",
       "      <td>37748650</td>\n",
       "      <td>SMC5/6 complex</td>\n",
       "      <td>gene</td>\n",
       "      <td>0.9954244494438172</td>\n",
       "      <td>NCBIGene79677</td>\n",
       "      <td>https://bioregistry.io/NCBIGene:79677</td>\n",
       "    </tr>\n",
       "    <tr>\n",
       "      <th>10406112</th>\n",
       "      <td>37748650</td>\n",
       "      <td>tBRCT</td>\n",
       "      <td>gene</td>\n",
       "      <td>0.9879411458969116</td>\n",
       "      <td>NCBIGene10716</td>\n",
       "      <td>https://bioregistry.io/NCBIGene:10716</td>\n",
       "    </tr>\n",
       "    <tr>\n",
       "      <th>10406113</th>\n",
       "      <td>37748650</td>\n",
       "      <td>phosphoserines</td>\n",
       "      <td>drug</td>\n",
       "      <td>0.9882856607437134</td>\n",
       "      <td>CHEBI15811</td>\n",
       "      <td>https://bioregistry.io/CHEBI:15811</td>\n",
       "    </tr>\n",
       "    <tr>\n",
       "      <th>10406114</th>\n",
       "      <td>37748650</td>\n",
       "      <td>tBRCTs</td>\n",
       "      <td>gene</td>\n",
       "      <td>0.9883208870887756</td>\n",
       "      <td>NCBIGene1788</td>\n",
       "      <td>https://bioregistry.io/NCBIGene:1788</td>\n",
       "    </tr>\n",
       "    <tr>\n",
       "      <th>10406115</th>\n",
       "      <td>37748705</td>\n",
       "      <td>patient</td>\n",
       "      <td>species</td>\n",
       "      <td>0.9635445475578308</td>\n",
       "      <td>NCBITaxon9606</td>\n",
       "      <td>https://bioregistry.io/NCBITaxon:9606</td>\n",
       "    </tr>\n",
       "  </tbody>\n",
       "</table>\n",
       "<p>10406116 rows × 6 columns</p>\n",
       "</div>"
      ],
      "text/plain": [
       "              PMID                                         Mention     Type  \\\n",
       "0                5                                  myohemerythrin     gene   \n",
       "1                5                                     hemerythrin     gene   \n",
       "2               55  yeast glyceraldehyde-3-phosphate dehydrogenase     gene   \n",
       "3               55                                           yeast  species   \n",
       "4               55                      glyceraldehyde-3-phosphate     drug   \n",
       "...            ...                                             ...      ...   \n",
       "10406111  37748650                                  SMC5/6 complex     gene   \n",
       "10406112  37748650                                           tBRCT     gene   \n",
       "10406113  37748650                                  phosphoserines     drug   \n",
       "10406114  37748650                                          tBRCTs     gene   \n",
       "10406115  37748705                                         patient  species   \n",
       "\n",
       "                        prob       EntityId  \\\n",
       "0          0.973336935043335   NCBIGene3048   \n",
       "1         0.9804603457450868   NCBIGene7248   \n",
       "2         0.9855808615684508  NCBIGene26330   \n",
       "3         0.9947445392608644  NCBITaxon4932   \n",
       "4          0.963684380054474    meshD005986   \n",
       "...                      ...            ...   \n",
       "10406111  0.9954244494438172  NCBIGene79677   \n",
       "10406112  0.9879411458969116  NCBIGene10716   \n",
       "10406113  0.9882856607437134     CHEBI15811   \n",
       "10406114  0.9883208870887756   NCBIGene1788   \n",
       "10406115  0.9635445475578308  NCBITaxon9606   \n",
       "\n",
       "                                            url  \n",
       "0          https://bioregistry.io/NCBIGene:3048  \n",
       "1          https://bioregistry.io/NCBIGene:7248  \n",
       "2         https://bioregistry.io/NCBIGene:26330  \n",
       "3         https://bioregistry.io/NCBITaxon:4932  \n",
       "4           https://bioregistry.io/mesh:D005986  \n",
       "...                                         ...  \n",
       "10406111  https://bioregistry.io/NCBIGene:79677  \n",
       "10406112  https://bioregistry.io/NCBIGene:10716  \n",
       "10406113     https://bioregistry.io/CHEBI:15811  \n",
       "10406114   https://bioregistry.io/NCBIGene:1788  \n",
       "10406115  https://bioregistry.io/NCBITaxon:9606  \n",
       "\n",
       "[10406116 rows x 6 columns]"
      ]
     },
     "execution_count": 21,
     "metadata": {},
     "output_type": "execute_result"
    }
   ],
   "source": [
    "paper_bioentity"
   ]
  },
  {
   "cell_type": "code",
   "execution_count": 5,
   "metadata": {},
   "outputs": [],
   "source": [
    "import numpy as np\n",
    "# read the .npz file\n",
    "tkg_embeddings_all = np.load('/data/jx4237data/Graph-CoT/Pipeline/updated_data/tkg_embeddings_all.npz')\n",
    "\n",
    "# access the data from the .npz file\n",
    "embeddings = tkg_embeddings_all['embeddings']\n",
    "ids = tkg_embeddings_all['ids']\n",
    "\n",
    "tkg_embeddings_new = np.load('/data/jx4237data/TKG/TKG_JCDL/Bridge2AI_10k/tkg_updated_360k_embeddings_all.npz')\n",
    "new_embeddings = tkg_embeddings_new['embeddings']\n",
    "new_ids = tkg_embeddings_new['ids']\n",
    "embeddings_dict = {id_: embedding for id_, embedding in zip(ids, embeddings)}\n",
    "new_embeddings_dict = {str(id_): embedding for id_, embedding in zip(new_ids, new_embeddings)}\n",
    "combined_embeddings_dict = {**embeddings_dict, **new_embeddings_dict}"
   ]
  },
  {
   "cell_type": "code",
   "execution_count": 23,
   "metadata": {},
   "outputs": [
    {
     "name": "stdout",
     "output_type": "stream",
     "text": [
      "EntityId\n",
      "NCBITaxon9606             9.722600\n",
      "meshD009369              12.094551\n",
      "NCBITaxon10095           12.902211\n",
      "NCBITaxon10090           13.626669\n",
      "NCBITaxon10116           14.091905\n",
      "                           ...    \n",
      "NCBIGene1647             79.751523\n",
      "meshD009081_mim252650    79.754291\n",
      "NCBIGene8692             79.757058\n",
      "NCBIGene9733             79.759826\n",
      "CHEBI39949               79.762593\n",
      "Name: count, Length: 5000, dtype: float64\n",
      "The top 5000 entities account for 79.76% of all entities.\n"
     ]
    }
   ],
   "source": [
    "import pandas as pd\n",
    "import numpy as np\n",
    "\n",
    "def cumulative_distribution_top_n(series, n):\n",
    "    \"\"\"\n",
    "    Calculates the cumulative distribution of the top n most frequent values in a pandas Series.\n",
    "\n",
    "    Args:\n",
    "        series (pd.Series): The pandas Series containing the data.\n",
    "        n (int): The number of top values to consider.\n",
    "\n",
    "    Returns:\n",
    "        pd.Series: A pandas Series representing the cumulative distribution of the top n values.\n",
    "    \"\"\"\n",
    "    value_counts = series.value_counts()\n",
    "    top_n_counts = value_counts.head(n)\n",
    "    cumulative_sum = top_n_counts.cumsum()\n",
    "    total_count = series.count()\n",
    "    cumulative_percentage = (cumulative_sum / total_count) * 100\n",
    "    return cumulative_percentage\n",
    "\n",
    "top_50_cumulative = cumulative_distribution_top_n(paper_bioentity['EntityId'], 5000)\n",
    "\n",
    "# Print the result\n",
    "print(top_50_cumulative)\n",
    "\n",
    "# Example to get the percentage of the top 50 entities.\n",
    "if len(top_50_cumulative) > 0:\n",
    "    print(f\"The top {len(top_50_cumulative)} entities account for {top_50_cumulative.iloc[-1]:.2f}% of all entities.\")\n",
    "else:\n",
    "    print(\"There are less than 50 unique entities.\")"
   ]
  },
  {
   "cell_type": "code",
   "execution_count": 25,
   "metadata": {},
   "outputs": [],
   "source": [
    "top_entity_set = set(top_50_cumulative.keys())"
   ]
  },
  {
   "cell_type": "code",
   "execution_count": 26,
   "metadata": {},
   "outputs": [],
   "source": [
    "paper_bioentity = paper_bioentity[paper_bioentity['EntityId'].isin(top_entity_set)]"
   ]
  },
  {
   "cell_type": "code",
   "execution_count": 30,
   "metadata": {},
   "outputs": [],
   "source": [
    "entity_pmids = paper_bioentity.groupby('EntityId')['PMID'].apply(list).to_dict()"
   ]
  },
  {
   "cell_type": "code",
   "execution_count": 31,
   "metadata": {},
   "outputs": [
    {
     "name": "stderr",
     "output_type": "stream",
     "text": [
      "100%|██████████| 5000/5000 [00:35<00:00, 141.22it/s]\n"
     ]
    }
   ],
   "source": [
    "import numpy as np\n",
    "from tqdm import tqdm\n",
    "entity_embeddings = {}\n",
    "for entityId, pmids in tqdm(entity_pmids.items()):\n",
    "    embeddings = [combined_embeddings_dict[pmid] for pmid in pmids]\n",
    "    entity_embeddings[entityId] = np.sum(embeddings, axis=0)"
   ]
  },
  {
   "cell_type": "code",
   "execution_count": 32,
   "metadata": {},
   "outputs": [],
   "source": [
    "index_to_entity = {}\n",
    "current_index = 223000000000\n",
    "for dataset in entity_embeddings.keys():\n",
    "    index_to_entity[current_index] = dataset\n",
    "    current_index += 1"
   ]
  },
  {
   "cell_type": "code",
   "execution_count": 33,
   "metadata": {},
   "outputs": [],
   "source": [
    "entity_to_index = {dataset: index for index, dataset in index_to_entity.items()}"
   ]
  },
  {
   "cell_type": "code",
   "execution_count": 34,
   "metadata": {},
   "outputs": [],
   "source": [
    "import pickle\n",
    "pickle.dump(entity_embeddings, open('/home/jx4237/projects/web_page/knowledge_graph_vis/knowledge_graph_viz/raw_data/entity_embeddings.pkl', 'wb'))"
   ]
  },
  {
   "cell_type": "code",
   "execution_count": 35,
   "metadata": {},
   "outputs": [],
   "source": [
    "pickle.dump(index_to_entity, open('/home/jx4237/projects/web_page/knowledge_graph_vis/knowledge_graph_viz/raw_data/index_to_entity.pkl', 'wb'))"
   ]
  }
 ],
 "metadata": {
  "kernelspec": {
   "display_name": "Python 3",
   "language": "python",
   "name": "python3"
  },
  "language_info": {
   "codemirror_mode": {
    "name": "ipython",
    "version": 3
   },
   "file_extension": ".py",
   "mimetype": "text/x-python",
   "name": "python",
   "nbconvert_exporter": "python",
   "pygments_lexer": "ipython3",
   "version": "3.10.13"
  }
 },
 "nbformat": 4,
 "nbformat_minor": 2
}
