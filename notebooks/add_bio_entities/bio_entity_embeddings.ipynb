{
 "cells": [
  {
   "cell_type": "code",
   "execution_count": 15,
   "metadata": {},
   "outputs": [],
   "source": [
    "import pandas as pd\n",
    "pmid_dataset = pd.read_csv('/data/jx4237data/TKG/TKG_JCDL/Bridge2AI_2m/pmid_dataset.csv.gz')"
   ]
  },
  {
   "cell_type": "code",
   "execution_count": 89,
   "metadata": {},
   "outputs": [],
   "source": [
    "paper_bioentity = pd.read_csv('/data/jx4237data/TKG/TKG_JCDL/Bridge2AI_2m/paper_bioentity_95_with_url_deduplicated.csv.gz', dtype=str)"
   ]
  },
  {
   "cell_type": "code",
   "execution_count": 17,
   "metadata": {},
   "outputs": [
    {
     "data": {
      "text/html": [
       "<div>\n",
       "<style scoped>\n",
       "    .dataframe tbody tr th:only-of-type {\n",
       "        vertical-align: middle;\n",
       "    }\n",
       "\n",
       "    .dataframe tbody tr th {\n",
       "        vertical-align: top;\n",
       "    }\n",
       "\n",
       "    .dataframe thead th {\n",
       "        text-align: right;\n",
       "    }\n",
       "</style>\n",
       "<table border=\"1\" class=\"dataframe\">\n",
       "  <thead>\n",
       "    <tr style=\"text-align: right;\">\n",
       "      <th></th>\n",
       "      <th>PMID</th>\n",
       "      <th>Mention</th>\n",
       "      <th>Type</th>\n",
       "      <th>prob</th>\n",
       "      <th>EntityId</th>\n",
       "      <th>url</th>\n",
       "    </tr>\n",
       "  </thead>\n",
       "  <tbody>\n",
       "    <tr>\n",
       "      <th>0</th>\n",
       "      <td>5</td>\n",
       "      <td>myohemerythrin</td>\n",
       "      <td>gene</td>\n",
       "      <td>0.973336935043335</td>\n",
       "      <td>NCBIGene3048</td>\n",
       "      <td>https://bioregistry.io/NCBIGene:3048</td>\n",
       "    </tr>\n",
       "    <tr>\n",
       "      <th>1</th>\n",
       "      <td>5</td>\n",
       "      <td>hemerythrin</td>\n",
       "      <td>gene</td>\n",
       "      <td>0.9804603457450868</td>\n",
       "      <td>NCBIGene7248</td>\n",
       "      <td>https://bioregistry.io/NCBIGene:7248</td>\n",
       "    </tr>\n",
       "    <tr>\n",
       "      <th>2</th>\n",
       "      <td>55</td>\n",
       "      <td>yeast glyceraldehyde-3-phosphate dehydrogenase</td>\n",
       "      <td>gene</td>\n",
       "      <td>0.9855808615684508</td>\n",
       "      <td>NCBIGene26330</td>\n",
       "      <td>https://bioregistry.io/NCBIGene:26330</td>\n",
       "    </tr>\n",
       "    <tr>\n",
       "      <th>3</th>\n",
       "      <td>55</td>\n",
       "      <td>yeast</td>\n",
       "      <td>species</td>\n",
       "      <td>0.9947445392608644</td>\n",
       "      <td>NCBITaxon4932</td>\n",
       "      <td>https://bioregistry.io/NCBITaxon:4932</td>\n",
       "    </tr>\n",
       "    <tr>\n",
       "      <th>4</th>\n",
       "      <td>55</td>\n",
       "      <td>glyceraldehyde-3-phosphate</td>\n",
       "      <td>drug</td>\n",
       "      <td>0.963684380054474</td>\n",
       "      <td>meshD005986</td>\n",
       "      <td>https://bioregistry.io/mesh:D005986</td>\n",
       "    </tr>\n",
       "    <tr>\n",
       "      <th>...</th>\n",
       "      <td>...</td>\n",
       "      <td>...</td>\n",
       "      <td>...</td>\n",
       "      <td>...</td>\n",
       "      <td>...</td>\n",
       "      <td>...</td>\n",
       "    </tr>\n",
       "    <tr>\n",
       "      <th>10406111</th>\n",
       "      <td>37748650</td>\n",
       "      <td>SMC5/6 complex</td>\n",
       "      <td>gene</td>\n",
       "      <td>0.9954244494438172</td>\n",
       "      <td>NCBIGene79677</td>\n",
       "      <td>https://bioregistry.io/NCBIGene:79677</td>\n",
       "    </tr>\n",
       "    <tr>\n",
       "      <th>10406112</th>\n",
       "      <td>37748650</td>\n",
       "      <td>tBRCT</td>\n",
       "      <td>gene</td>\n",
       "      <td>0.9879411458969116</td>\n",
       "      <td>NCBIGene10716</td>\n",
       "      <td>https://bioregistry.io/NCBIGene:10716</td>\n",
       "    </tr>\n",
       "    <tr>\n",
       "      <th>10406113</th>\n",
       "      <td>37748650</td>\n",
       "      <td>phosphoserines</td>\n",
       "      <td>drug</td>\n",
       "      <td>0.9882856607437134</td>\n",
       "      <td>CHEBI15811</td>\n",
       "      <td>https://bioregistry.io/CHEBI:15811</td>\n",
       "    </tr>\n",
       "    <tr>\n",
       "      <th>10406114</th>\n",
       "      <td>37748650</td>\n",
       "      <td>tBRCTs</td>\n",
       "      <td>gene</td>\n",
       "      <td>0.9883208870887756</td>\n",
       "      <td>NCBIGene1788</td>\n",
       "      <td>https://bioregistry.io/NCBIGene:1788</td>\n",
       "    </tr>\n",
       "    <tr>\n",
       "      <th>10406115</th>\n",
       "      <td>37748705</td>\n",
       "      <td>patient</td>\n",
       "      <td>species</td>\n",
       "      <td>0.9635445475578308</td>\n",
       "      <td>NCBITaxon9606</td>\n",
       "      <td>https://bioregistry.io/NCBITaxon:9606</td>\n",
       "    </tr>\n",
       "  </tbody>\n",
       "</table>\n",
       "<p>10406116 rows × 6 columns</p>\n",
       "</div>"
      ],
      "text/plain": [
       "              PMID                                         Mention     Type  \\\n",
       "0                5                                  myohemerythrin     gene   \n",
       "1                5                                     hemerythrin     gene   \n",
       "2               55  yeast glyceraldehyde-3-phosphate dehydrogenase     gene   \n",
       "3               55                                           yeast  species   \n",
       "4               55                      glyceraldehyde-3-phosphate     drug   \n",
       "...            ...                                             ...      ...   \n",
       "10406111  37748650                                  SMC5/6 complex     gene   \n",
       "10406112  37748650                                           tBRCT     gene   \n",
       "10406113  37748650                                  phosphoserines     drug   \n",
       "10406114  37748650                                          tBRCTs     gene   \n",
       "10406115  37748705                                         patient  species   \n",
       "\n",
       "                        prob       EntityId  \\\n",
       "0          0.973336935043335   NCBIGene3048   \n",
       "1         0.9804603457450868   NCBIGene7248   \n",
       "2         0.9855808615684508  NCBIGene26330   \n",
       "3         0.9947445392608644  NCBITaxon4932   \n",
       "4          0.963684380054474    meshD005986   \n",
       "...                      ...            ...   \n",
       "10406111  0.9954244494438172  NCBIGene79677   \n",
       "10406112  0.9879411458969116  NCBIGene10716   \n",
       "10406113  0.9882856607437134     CHEBI15811   \n",
       "10406114  0.9883208870887756   NCBIGene1788   \n",
       "10406115  0.9635445475578308  NCBITaxon9606   \n",
       "\n",
       "                                            url  \n",
       "0          https://bioregistry.io/NCBIGene:3048  \n",
       "1          https://bioregistry.io/NCBIGene:7248  \n",
       "2         https://bioregistry.io/NCBIGene:26330  \n",
       "3         https://bioregistry.io/NCBITaxon:4932  \n",
       "4           https://bioregistry.io/mesh:D005986  \n",
       "...                                         ...  \n",
       "10406111  https://bioregistry.io/NCBIGene:79677  \n",
       "10406112  https://bioregistry.io/NCBIGene:10716  \n",
       "10406113     https://bioregistry.io/CHEBI:15811  \n",
       "10406114   https://bioregistry.io/NCBIGene:1788  \n",
       "10406115  https://bioregistry.io/NCBITaxon:9606  \n",
       "\n",
       "[10406116 rows x 6 columns]"
      ]
     },
     "execution_count": 17,
     "metadata": {},
     "output_type": "execute_result"
    }
   ],
   "source": [
    "paper_bioentity"
   ]
  },
  {
   "cell_type": "code",
   "execution_count": 5,
   "metadata": {},
   "outputs": [],
   "source": [
    "import numpy as np\n",
    "# read the .npz file\n",
    "tkg_embeddings_all = np.load('/data/jx4237data/Graph-CoT/Pipeline/updated_data/tkg_embeddings_all.npz')\n",
    "\n",
    "# access the data from the .npz file\n",
    "embeddings = tkg_embeddings_all['embeddings']\n",
    "ids = tkg_embeddings_all['ids']\n",
    "\n",
    "tkg_embeddings_new = np.load('/data/jx4237data/TKG/TKG_JCDL/Bridge2AI_10k/tkg_updated_360k_embeddings_all.npz')\n",
    "new_embeddings = tkg_embeddings_new['embeddings']\n",
    "new_ids = tkg_embeddings_new['ids']\n",
    "embeddings_dict = {id_: embedding for id_, embedding in zip(ids, embeddings)}\n",
    "new_embeddings_dict = {str(id_): embedding for id_, embedding in zip(new_ids, new_embeddings)}\n",
    "combined_embeddings_dict = {**embeddings_dict, **new_embeddings_dict}"
   ]
  },
  {
   "cell_type": "code",
   "execution_count": 18,
   "metadata": {},
   "outputs": [
    {
     "name": "stdout",
     "output_type": "stream",
     "text": [
      "EntityId\n",
      "NCBITaxon9606             9.722600\n",
      "meshD009369              12.094551\n",
      "NCBITaxon10095           12.902211\n",
      "NCBITaxon10090           13.626669\n",
      "NCBITaxon10116           14.091905\n",
      "                           ...    \n",
      "NCBIGene1647             79.751523\n",
      "meshD009081_mim252650    79.754291\n",
      "NCBIGene8692             79.757058\n",
      "NCBIGene9733             79.759826\n",
      "CHEBI39949               79.762593\n",
      "Name: count, Length: 5000, dtype: float64\n",
      "The top 5000 entities account for 79.76% of all entities.\n"
     ]
    }
   ],
   "source": [
    "import pandas as pd\n",
    "import numpy as np\n",
    "\n",
    "def cumulative_distribution_top_n(series, n):\n",
    "    \"\"\"\n",
    "    Calculates the cumulative distribution of the top n most frequent values in a pandas Series.\n",
    "\n",
    "    Args:\n",
    "        series (pd.Series): The pandas Series containing the data.\n",
    "        n (int): The number of top values to consider.\n",
    "\n",
    "    Returns:\n",
    "        pd.Series: A pandas Series representing the cumulative distribution of the top n values.\n",
    "    \"\"\"\n",
    "    value_counts = series.value_counts()\n",
    "    top_n_counts = value_counts.head(n)\n",
    "    cumulative_sum = top_n_counts.cumsum()\n",
    "    total_count = series.count()\n",
    "    cumulative_percentage = (cumulative_sum / total_count) * 100\n",
    "    return cumulative_percentage\n",
    "\n",
    "top_50_cumulative = cumulative_distribution_top_n(paper_bioentity['EntityId'], 5000)\n",
    "\n",
    "# Print the result\n",
    "print(top_50_cumulative)\n",
    "\n",
    "# Example to get the percentage of the top 50 entities.\n",
    "if len(top_50_cumulative) > 0:\n",
    "    print(f\"The top {len(top_50_cumulative)} entities account for {top_50_cumulative.iloc[-1]:.2f}% of all entities.\")\n",
    "else:\n",
    "    print(\"There are less than 50 unique entities.\")"
   ]
  },
  {
   "cell_type": "code",
   "execution_count": 19,
   "metadata": {},
   "outputs": [],
   "source": [
    "top_entity_set = set(top_50_cumulative.keys())"
   ]
  },
  {
   "cell_type": "code",
   "execution_count": 20,
   "metadata": {},
   "outputs": [],
   "source": [
    "paper_bioentity = paper_bioentity[paper_bioentity['EntityId'].isin(top_entity_set)]"
   ]
  },
  {
   "cell_type": "code",
   "execution_count": 21,
   "metadata": {},
   "outputs": [],
   "source": [
    "entity_pmids = paper_bioentity.groupby('EntityId')['PMID'].apply(list).to_dict()"
   ]
  },
  {
   "cell_type": "code",
   "execution_count": 25,
   "metadata": {},
   "outputs": [
    {
     "name": "stderr",
     "output_type": "stream",
     "text": [
      "/tmp/ipykernel_76181/374449535.py:1: SettingWithCopyWarning: \n",
      "A value is trying to be set on a copy of a slice from a DataFrame\n",
      "\n",
      "See the caveats in the documentation: https://pandas.pydata.org/pandas-docs/stable/user_guide/indexing.html#returning-a-view-versus-a-copy\n",
      "  paper_bioentity.drop_duplicates(subset=['EntityId'], keep='first', inplace=True)\n"
     ]
    }
   ],
   "source": [
    "paper_bioentity.drop_duplicates(subset=['EntityId'], keep='first', inplace=True)"
   ]
  },
  {
   "cell_type": "code",
   "execution_count": 29,
   "metadata": {},
   "outputs": [],
   "source": [
    "entity_id_rank = list(entity_pmids.keys())"
   ]
  },
  {
   "cell_type": "code",
   "execution_count": null,
   "metadata": {},
   "outputs": [
    {
     "name": "stderr",
     "output_type": "stream",
     "text": [
      "/tmp/ipykernel_76181/2565313040.py:21: SettingWithCopyWarning: \n",
      "A value is trying to be set on a copy of a slice from a DataFrame.\n",
      "Try using .loc[row_indexer,col_indexer] = value instead\n",
      "\n",
      "See the caveats in the documentation: https://pandas.pydata.org/pandas-docs/stable/user_guide/indexing.html#returning-a-view-versus-a-copy\n",
      "  df['order_index'] = df[column_name].map(order_map)\n"
     ]
    },
    {
     "data": {
      "text/html": [
       "<div>\n",
       "<style scoped>\n",
       "    .dataframe tbody tr th:only-of-type {\n",
       "        vertical-align: middle;\n",
       "    }\n",
       "\n",
       "    .dataframe tbody tr th {\n",
       "        vertical-align: top;\n",
       "    }\n",
       "\n",
       "    .dataframe thead th {\n",
       "        text-align: right;\n",
       "    }\n",
       "</style>\n",
       "<table border=\"1\" class=\"dataframe\">\n",
       "  <thead>\n",
       "    <tr style=\"text-align: right;\">\n",
       "      <th></th>\n",
       "      <th>PMID</th>\n",
       "      <th>Mention</th>\n",
       "      <th>Type</th>\n",
       "      <th>prob</th>\n",
       "      <th>EntityId</th>\n",
       "      <th>url</th>\n",
       "    </tr>\n",
       "  </thead>\n",
       "  <tbody>\n",
       "    <tr>\n",
       "      <th>78</th>\n",
       "      <td>1140</td>\n",
       "      <td>choline</td>\n",
       "      <td>drug</td>\n",
       "      <td>0.9989407658576964</td>\n",
       "      <td>CHEBI133341</td>\n",
       "      <td>https://bioregistry.io/CHEBI:133341</td>\n",
       "    </tr>\n",
       "    <tr>\n",
       "      <th>31846</th>\n",
       "      <td>627060</td>\n",
       "      <td>Quinine</td>\n",
       "      <td>drug</td>\n",
       "      <td>0.999497652053833</td>\n",
       "      <td>CHEBI137041</td>\n",
       "      <td>https://bioregistry.io/CHEBI:137041</td>\n",
       "    </tr>\n",
       "    <tr>\n",
       "      <th>1275</th>\n",
       "      <td>16889</td>\n",
       "      <td>acetate</td>\n",
       "      <td>drug</td>\n",
       "      <td>0.9964773058891296</td>\n",
       "      <td>CHEBI15366</td>\n",
       "      <td>https://bioregistry.io/CHEBI:15366</td>\n",
       "    </tr>\n",
       "    <tr>\n",
       "      <th>9113</th>\n",
       "      <td>165356</td>\n",
       "      <td>PGE-2</td>\n",
       "      <td>drug</td>\n",
       "      <td>0.9995617270469666</td>\n",
       "      <td>CHEBI15551</td>\n",
       "      <td>https://bioregistry.io/CHEBI:15551</td>\n",
       "    </tr>\n",
       "    <tr>\n",
       "      <th>9115</th>\n",
       "      <td>165356</td>\n",
       "      <td>PGF-2-alpha</td>\n",
       "      <td>drug</td>\n",
       "      <td>0.9997817873954772</td>\n",
       "      <td>CHEBI15553</td>\n",
       "      <td>https://bioregistry.io/CHEBI:15553</td>\n",
       "    </tr>\n",
       "    <tr>\n",
       "      <th>...</th>\n",
       "      <td>...</td>\n",
       "      <td>...</td>\n",
       "      <td>...</td>\n",
       "      <td>...</td>\n",
       "      <td>...</td>\n",
       "      <td>...</td>\n",
       "    </tr>\n",
       "    <tr>\n",
       "      <th>4639</th>\n",
       "      <td>81356</td>\n",
       "      <td>type B interruption of the aortic arch</td>\n",
       "      <td>disease</td>\n",
       "      <td>0.99985009431839</td>\n",
       "      <td>mim217095</td>\n",
       "      <td>https://bioregistry.io/mim:217095</td>\n",
       "    </tr>\n",
       "    <tr>\n",
       "      <th>123387</th>\n",
       "      <td>8625125</td>\n",
       "      <td>MPMs</td>\n",
       "      <td>disease</td>\n",
       "      <td>0.9999969005584716</td>\n",
       "      <td>mim605711</td>\n",
       "      <td>https://bioregistry.io/mim:605711</td>\n",
       "    </tr>\n",
       "    <tr>\n",
       "      <th>177777</th>\n",
       "      <td>8795357</td>\n",
       "      <td>CRIB</td>\n",
       "      <td>disease</td>\n",
       "      <td>0.9993176460266112</td>\n",
       "      <td>mim609165</td>\n",
       "      <td>https://bioregistry.io/mim:609165</td>\n",
       "    </tr>\n",
       "    <tr>\n",
       "      <th>58297</th>\n",
       "      <td>8413957</td>\n",
       "      <td>mesial temporal lobe epilepsy</td>\n",
       "      <td>disease</td>\n",
       "      <td>0.9999971389770508</td>\n",
       "      <td>mim611630</td>\n",
       "      <td>https://bioregistry.io/mim:611630</td>\n",
       "    </tr>\n",
       "    <tr>\n",
       "      <th>62622</th>\n",
       "      <td>8425845</td>\n",
       "      <td>non-MAR retinopathy</td>\n",
       "      <td>disease</td>\n",
       "      <td>0.994980812072754</td>\n",
       "      <td>mim612635</td>\n",
       "      <td>https://bioregistry.io/mim:612635</td>\n",
       "    </tr>\n",
       "  </tbody>\n",
       "</table>\n",
       "<p>5000 rows × 6 columns</p>\n",
       "</div>"
      ],
      "text/plain": [
       "           PMID                                 Mention     Type  \\\n",
       "78         1140                                 choline     drug   \n",
       "31846    627060                                 Quinine     drug   \n",
       "1275      16889                                 acetate     drug   \n",
       "9113     165356                                   PGE-2     drug   \n",
       "9115     165356                             PGF-2-alpha     drug   \n",
       "...         ...                                     ...      ...   \n",
       "4639      81356  type B interruption of the aortic arch  disease   \n",
       "123387  8625125                                    MPMs  disease   \n",
       "177777  8795357                                    CRIB  disease   \n",
       "58297   8413957           mesial temporal lobe epilepsy  disease   \n",
       "62622   8425845                     non-MAR retinopathy  disease   \n",
       "\n",
       "                      prob     EntityId                                  url  \n",
       "78      0.9989407658576964  CHEBI133341  https://bioregistry.io/CHEBI:133341  \n",
       "31846    0.999497652053833  CHEBI137041  https://bioregistry.io/CHEBI:137041  \n",
       "1275    0.9964773058891296   CHEBI15366   https://bioregistry.io/CHEBI:15366  \n",
       "9113    0.9995617270469666   CHEBI15551   https://bioregistry.io/CHEBI:15551  \n",
       "9115    0.9997817873954772   CHEBI15553   https://bioregistry.io/CHEBI:15553  \n",
       "...                    ...          ...                                  ...  \n",
       "4639      0.99985009431839    mim217095    https://bioregistry.io/mim:217095  \n",
       "123387  0.9999969005584716    mim605711    https://bioregistry.io/mim:605711  \n",
       "177777  0.9993176460266112    mim609165    https://bioregistry.io/mim:609165  \n",
       "58297   0.9999971389770508    mim611630    https://bioregistry.io/mim:611630  \n",
       "62622    0.994980812072754    mim612635    https://bioregistry.io/mim:612635  \n",
       "\n",
       "[5000 rows x 6 columns]"
      ]
     },
     "execution_count": 30,
     "metadata": {},
     "output_type": "execute_result"
    }
   ],
   "source": [
    "import pandas as pd\n",
    "import numpy as np\n",
    "\n",
    "def sort_dataframe_by_long_ordered_list(df, column_name, ordered_list):\n",
    "    \"\"\"\n",
    "    Sorts a pandas DataFrame by a specified column according to a long ordered list.\n",
    "\n",
    "    Args:\n",
    "        df (pd.DataFrame): The DataFrame to sort.\n",
    "        column_name (str): The name of the column to sort by.\n",
    "        ordered_list (list): The desired order of values in the column (length 5000 in this case).\n",
    "\n",
    "    Returns:\n",
    "        pd.DataFrame: The sorted DataFrame.\n",
    "    \"\"\"\n",
    "\n",
    "    # Create a mapping dictionary for efficient lookup\n",
    "    order_map = {val: index for index, val in enumerate(ordered_list)}\n",
    "\n",
    "    # Create a new column with the order index\n",
    "    df['order_index'] = df[column_name].map(order_map)\n",
    "\n",
    "    # Sort the DataFrame by the order index\n",
    "    df_sorted = df.sort_values(by='order_index')\n",
    "\n",
    "    # Drop the temporary order_index column\n",
    "    df_sorted = df_sorted.drop(columns='order_index')\n",
    "\n",
    "    return df_sorted\n",
    "\n",
    "\n",
    "paper_bioentity = sort_dataframe_by_long_ordered_list(paper_bioentity, 'EntityId', entity_id_rank)"
   ]
  },
  {
   "cell_type": "code",
   "execution_count": 23,
   "metadata": {},
   "outputs": [],
   "source": [
    "# entity_pmids"
   ]
  },
  {
   "cell_type": "code",
   "execution_count": 31,
   "metadata": {},
   "outputs": [
    {
     "name": "stderr",
     "output_type": "stream",
     "text": [
      "100%|██████████| 5000/5000 [00:35<00:00, 141.22it/s]\n"
     ]
    }
   ],
   "source": [
    "import numpy as np\n",
    "from tqdm import tqdm\n",
    "entity_embeddings = {}\n",
    "for entityId, pmids in tqdm(entity_pmids.items()):\n",
    "    embeddings = [combined_embeddings_dict[pmid] for pmid in pmids]\n",
    "    entity_embeddings[entityId] = np.sum(embeddings, axis=0)"
   ]
  },
  {
   "cell_type": "code",
   "execution_count": 32,
   "metadata": {},
   "outputs": [],
   "source": [
    "index_to_entity = {}\n",
    "current_index = 223000000000\n",
    "for dataset in entity_embeddings.keys():\n",
    "    index_to_entity[current_index] = dataset\n",
    "    current_index += 1"
   ]
  },
  {
   "cell_type": "code",
   "execution_count": 49,
   "metadata": {},
   "outputs": [],
   "source": [
    "entity_to_index = {dataset: index for index, dataset in index_to_entity.items()}"
   ]
  },
  {
   "cell_type": "code",
   "execution_count": 34,
   "metadata": {},
   "outputs": [],
   "source": [
    "import pickle\n",
    "pickle.dump(entity_embeddings, open('/home/jx4237/projects/web_page/knowledge_graph_vis/knowledge_graph_viz/raw_data/entity_embeddings.pkl', 'wb'))"
   ]
  },
  {
   "cell_type": "code",
   "execution_count": 68,
   "metadata": {},
   "outputs": [],
   "source": [
    "entity_embeddings = pickle.load(open('/home/jx4237/projects/web_page/knowledge_graph_vis/knowledge_graph_viz/raw_data/entity_embeddings.pkl', 'rb'))"
   ]
  },
  {
   "cell_type": "code",
   "execution_count": 35,
   "metadata": {},
   "outputs": [],
   "source": [
    "pickle.dump(index_to_entity, open('/home/jx4237/projects/web_page/knowledge_graph_vis/knowledge_graph_viz/raw_data/index_to_entity.pkl', 'wb'))"
   ]
  },
  {
   "cell_type": "code",
   "execution_count": 7,
   "metadata": {},
   "outputs": [],
   "source": [
    "import pickle\n",
    "\n",
    "index_to_entity = pickle.load(open('/home/jx4237/projects/web_page/knowledge_graph_vis/knowledge_graph_viz/raw_data/index_to_entity.pkl', 'rb'))"
   ]
  },
  {
   "cell_type": "markdown",
   "metadata": {},
   "source": [
    "# metadata file"
   ]
  },
  {
   "cell_type": "code",
   "execution_count": 2,
   "metadata": {},
   "outputs": [],
   "source": [
    "import pandas as pd\n",
    "meta_data_df = pd.read_csv('/home/jx4237/projects/web_page/knowledge_graph_vis/knowledge_graph_viz/work/data/author_dataset_filtered.csv')"
   ]
  },
  {
   "cell_type": "code",
   "execution_count": 4,
   "metadata": {},
   "outputs": [
    {
     "data": {
      "text/plain": [
       "Index(['id', 'FullName', 'BeginYear', 'PaperNum', 'CM4AI', 'RecentYear',\n",
       "       'Index', 'is_author', 'index', 'color_category', 'Affiliation',\n",
       "       'Data_Source', 'Data_Description', 'Data_url', 'pmids_string'],\n",
       "      dtype='object')"
      ]
     },
     "execution_count": 4,
     "metadata": {},
     "output_type": "execute_result"
    }
   ],
   "source": [
    "meta_data_df.columns"
   ]
  },
  {
   "cell_type": "code",
   "execution_count": 32,
   "metadata": {},
   "outputs": [],
   "source": [
    "# index_to_entity"
   ]
  },
  {
   "cell_type": "code",
   "execution_count": 39,
   "metadata": {},
   "outputs": [
    {
     "data": {
      "text/html": [
       "<div>\n",
       "<style scoped>\n",
       "    .dataframe tbody tr th:only-of-type {\n",
       "        vertical-align: middle;\n",
       "    }\n",
       "\n",
       "    .dataframe tbody tr th {\n",
       "        vertical-align: top;\n",
       "    }\n",
       "\n",
       "    .dataframe thead th {\n",
       "        text-align: right;\n",
       "    }\n",
       "</style>\n",
       "<table border=\"1\" class=\"dataframe\">\n",
       "  <thead>\n",
       "    <tr style=\"text-align: right;\">\n",
       "      <th></th>\n",
       "      <th>PMID</th>\n",
       "      <th>Mention</th>\n",
       "      <th>Type</th>\n",
       "      <th>prob</th>\n",
       "      <th>EntityId</th>\n",
       "      <th>url</th>\n",
       "    </tr>\n",
       "  </thead>\n",
       "  <tbody>\n",
       "    <tr>\n",
       "      <th>78</th>\n",
       "      <td>1140</td>\n",
       "      <td>choline</td>\n",
       "      <td>drug</td>\n",
       "      <td>0.9989407658576964</td>\n",
       "      <td>CHEBI133341</td>\n",
       "      <td>https://bioregistry.io/CHEBI:133341</td>\n",
       "    </tr>\n",
       "    <tr>\n",
       "      <th>31846</th>\n",
       "      <td>627060</td>\n",
       "      <td>Quinine</td>\n",
       "      <td>drug</td>\n",
       "      <td>0.999497652053833</td>\n",
       "      <td>CHEBI137041</td>\n",
       "      <td>https://bioregistry.io/CHEBI:137041</td>\n",
       "    </tr>\n",
       "    <tr>\n",
       "      <th>1275</th>\n",
       "      <td>16889</td>\n",
       "      <td>acetate</td>\n",
       "      <td>drug</td>\n",
       "      <td>0.9964773058891296</td>\n",
       "      <td>CHEBI15366</td>\n",
       "      <td>https://bioregistry.io/CHEBI:15366</td>\n",
       "    </tr>\n",
       "    <tr>\n",
       "      <th>9113</th>\n",
       "      <td>165356</td>\n",
       "      <td>PGE-2</td>\n",
       "      <td>drug</td>\n",
       "      <td>0.9995617270469666</td>\n",
       "      <td>CHEBI15551</td>\n",
       "      <td>https://bioregistry.io/CHEBI:15551</td>\n",
       "    </tr>\n",
       "    <tr>\n",
       "      <th>9115</th>\n",
       "      <td>165356</td>\n",
       "      <td>PGF-2-alpha</td>\n",
       "      <td>drug</td>\n",
       "      <td>0.9997817873954772</td>\n",
       "      <td>CHEBI15553</td>\n",
       "      <td>https://bioregistry.io/CHEBI:15553</td>\n",
       "    </tr>\n",
       "    <tr>\n",
       "      <th>...</th>\n",
       "      <td>...</td>\n",
       "      <td>...</td>\n",
       "      <td>...</td>\n",
       "      <td>...</td>\n",
       "      <td>...</td>\n",
       "      <td>...</td>\n",
       "    </tr>\n",
       "    <tr>\n",
       "      <th>4639</th>\n",
       "      <td>81356</td>\n",
       "      <td>type B interruption of the aortic arch</td>\n",
       "      <td>disease</td>\n",
       "      <td>0.99985009431839</td>\n",
       "      <td>mim217095</td>\n",
       "      <td>https://bioregistry.io/mim:217095</td>\n",
       "    </tr>\n",
       "    <tr>\n",
       "      <th>123387</th>\n",
       "      <td>8625125</td>\n",
       "      <td>MPMs</td>\n",
       "      <td>disease</td>\n",
       "      <td>0.9999969005584716</td>\n",
       "      <td>mim605711</td>\n",
       "      <td>https://bioregistry.io/mim:605711</td>\n",
       "    </tr>\n",
       "    <tr>\n",
       "      <th>177777</th>\n",
       "      <td>8795357</td>\n",
       "      <td>CRIB</td>\n",
       "      <td>disease</td>\n",
       "      <td>0.9993176460266112</td>\n",
       "      <td>mim609165</td>\n",
       "      <td>https://bioregistry.io/mim:609165</td>\n",
       "    </tr>\n",
       "    <tr>\n",
       "      <th>58297</th>\n",
       "      <td>8413957</td>\n",
       "      <td>mesial temporal lobe epilepsy</td>\n",
       "      <td>disease</td>\n",
       "      <td>0.9999971389770508</td>\n",
       "      <td>mim611630</td>\n",
       "      <td>https://bioregistry.io/mim:611630</td>\n",
       "    </tr>\n",
       "    <tr>\n",
       "      <th>62622</th>\n",
       "      <td>8425845</td>\n",
       "      <td>non-MAR retinopathy</td>\n",
       "      <td>disease</td>\n",
       "      <td>0.994980812072754</td>\n",
       "      <td>mim612635</td>\n",
       "      <td>https://bioregistry.io/mim:612635</td>\n",
       "    </tr>\n",
       "  </tbody>\n",
       "</table>\n",
       "<p>5000 rows × 6 columns</p>\n",
       "</div>"
      ],
      "text/plain": [
       "           PMID                                 Mention     Type  \\\n",
       "78         1140                                 choline     drug   \n",
       "31846    627060                                 Quinine     drug   \n",
       "1275      16889                                 acetate     drug   \n",
       "9113     165356                                   PGE-2     drug   \n",
       "9115     165356                             PGF-2-alpha     drug   \n",
       "...         ...                                     ...      ...   \n",
       "4639      81356  type B interruption of the aortic arch  disease   \n",
       "123387  8625125                                    MPMs  disease   \n",
       "177777  8795357                                    CRIB  disease   \n",
       "58297   8413957           mesial temporal lobe epilepsy  disease   \n",
       "62622   8425845                     non-MAR retinopathy  disease   \n",
       "\n",
       "                      prob     EntityId                                  url  \n",
       "78      0.9989407658576964  CHEBI133341  https://bioregistry.io/CHEBI:133341  \n",
       "31846    0.999497652053833  CHEBI137041  https://bioregistry.io/CHEBI:137041  \n",
       "1275    0.9964773058891296   CHEBI15366   https://bioregistry.io/CHEBI:15366  \n",
       "9113    0.9995617270469666   CHEBI15551   https://bioregistry.io/CHEBI:15551  \n",
       "9115    0.9997817873954772   CHEBI15553   https://bioregistry.io/CHEBI:15553  \n",
       "...                    ...          ...                                  ...  \n",
       "4639      0.99985009431839    mim217095    https://bioregistry.io/mim:217095  \n",
       "123387  0.9999969005584716    mim605711    https://bioregistry.io/mim:605711  \n",
       "177777  0.9993176460266112    mim609165    https://bioregistry.io/mim:609165  \n",
       "58297   0.9999971389770508    mim611630    https://bioregistry.io/mim:611630  \n",
       "62622    0.994980812072754    mim612635    https://bioregistry.io/mim:612635  \n",
       "\n",
       "[5000 rows x 6 columns]"
      ]
     },
     "execution_count": 39,
     "metadata": {},
     "output_type": "execute_result"
    }
   ],
   "source": [
    "paper_bioentity"
   ]
  },
  {
   "cell_type": "code",
   "execution_count": 41,
   "metadata": {},
   "outputs": [],
   "source": [
    "bio_data = {\n",
    "    'id': list(index_to_entity.keys()),\n",
    "    'FullName': paper_bioentity['Mention'].tolist(), # use the name\n",
    "    'BeginYear': [2020] * len(index_to_entity),\n",
    "    'PaperNum': [100] * len(index_to_entity),\n",
    "    'CM4AI': [0] * len(index_to_entity),\n",
    "    'RecentYear': [0] * len(index_to_entity),\n",
    "    'Index': [0] * len(index_to_entity),\n",
    "    'is_author': [0] * len(index_to_entity),\n",
    "    'index': [0] * len(index_to_entity),\n",
    "    'color_category': [6] * len(index_to_entity),\n",
    "    'Affiliation': [''] * len(index_to_entity),\n",
    "    'Data_Source': paper_bioentity['Type'].tolist(), \n",
    "    'Data_Description': list(index_to_entity.values()), # Entity ID.\n",
    "    'Data_url': paper_bioentity['url'].tolist(),\n",
    "    'pmids_string': [''] * len(index_to_entity),\n",
    "}\n",
    "\n",
    "df_bio_data = pd.DataFrame(bio_data)\n",
    "\n",
    "# Append the new DataFrame to the original DataFrame\n",
    "df_bio_data = pd.concat([meta_data_df, df_bio_data], ignore_index=True)"
   ]
  },
  {
   "cell_type": "code",
   "execution_count": 43,
   "metadata": {},
   "outputs": [],
   "source": [
    "df_bio_data['Index'] =df_bio_data.index\n",
    "df_bio_data['index'] =df_bio_data.index"
   ]
  },
  {
   "cell_type": "code",
   "execution_count": 82,
   "metadata": {},
   "outputs": [
    {
     "data": {
      "text/plain": [
       "color_category\n",
       "0    20924\n",
       "5     7364\n",
       "6     5000\n",
       "1     1138\n",
       "2       77\n",
       "3       25\n",
       "4        3\n",
       "Name: count, dtype: int64"
      ]
     },
     "execution_count": 82,
     "metadata": {},
     "output_type": "execute_result"
    }
   ],
   "source": [
    "df_bio_data.value_counts('color_category')"
   ]
  },
  {
   "cell_type": "code",
   "execution_count": 44,
   "metadata": {},
   "outputs": [],
   "source": [
    "df_bio_data.to_csv('/home/jx4237/projects/web_page/knowledge_graph_vis/knowledge_graph_viz/work/data/author_dataset_bio_entity.csv', index=False)"
   ]
  },
  {
   "cell_type": "markdown",
   "metadata": {},
   "source": [
    "# add users and future users"
   ]
  },
  {
   "cell_type": "code",
   "execution_count": 90,
   "metadata": {},
   "outputs": [],
   "source": [
    "import pandas as pd\n",
    "paper_author_2m = pd.read_csv('/data/jx4237data/TKG/TKG_JCDL/Bridge2AI_2m/paper_author.csv.gz')\n"
   ]
  },
  {
   "cell_type": "code",
   "execution_count": 92,
   "metadata": {},
   "outputs": [
    {
     "data": {
      "text/plain": [
       "10406116"
      ]
     },
     "execution_count": 92,
     "metadata": {},
     "output_type": "execute_result"
    }
   ],
   "source": [
    "len(paper_bioentity)"
   ]
  },
  {
   "cell_type": "code",
   "execution_count": 91,
   "metadata": {},
   "outputs": [],
   "source": [
    "paper_bioentity['entity_index'] = paper_bioentity['EntityId'].apply(lambda x: entity_to_index.get(x))"
   ]
  },
  {
   "cell_type": "code",
   "execution_count": 51,
   "metadata": {},
   "outputs": [],
   "source": [
    "all_author_pd = pd.read_csv('/home/jx4237/projects/web_page/knowledge_graph_vis/knowledge_graph_viz/work/data/author_dataset_bio_entity.csv')\n",
    "aid_set = all_author_pd['id'].to_list()"
   ]
  },
  {
   "cell_type": "code",
   "execution_count": 95,
   "metadata": {},
   "outputs": [
    {
     "data": {
      "text/plain": [
       "2933854"
      ]
     },
     "execution_count": 95,
     "metadata": {},
     "output_type": "execute_result"
    }
   ],
   "source": [
    "len(paper_author_2m)"
   ]
  },
  {
   "cell_type": "code",
   "execution_count": 94,
   "metadata": {},
   "outputs": [],
   "source": [
    "paper_author_2m = paper_author_2m[paper_author_2m['AID'].isin(aid_set)]"
   ]
  },
  {
   "cell_type": "code",
   "execution_count": 96,
   "metadata": {},
   "outputs": [],
   "source": [
    "paper_bioentity['PMID'] = paper_bioentity['PMID'].astype(int)"
   ]
  },
  {
   "cell_type": "code",
   "execution_count": 97,
   "metadata": {},
   "outputs": [],
   "source": [
    "merged_df = pd.merge(paper_author_2m, paper_bioentity, on='PMID')\n",
    "\n",
    "# Group by dataset_id and collect unique AIDs\n",
    "bio_id2users = merged_df.groupby('entity_index')['AID'].apply(lambda x: x.unique().tolist()).to_dict()"
   ]
  },
  {
   "cell_type": "code",
   "execution_count": 99,
   "metadata": {},
   "outputs": [],
   "source": [
    "# len(bio_id2users)"
   ]
  },
  {
   "cell_type": "code",
   "execution_count": 63,
   "metadata": {},
   "outputs": [],
   "source": [
    "import pandas as pd\n",
    "import pickle\n",
    "import gzip\n",
    "\n",
    "author_collab = pickle.load(open('/home/jx4237/projects/web_page/knowledge_graph_vis/knowledge_graph_viz/raw_data/author_dataset_collaborators.pkl', 'rb'))"
   ]
  },
  {
   "cell_type": "code",
   "execution_count": 80,
   "metadata": {},
   "outputs": [],
   "source": [
    "# len(bio_id2users)"
   ]
  },
  {
   "cell_type": "code",
   "execution_count": 104,
   "metadata": {},
   "outputs": [],
   "source": [
    "author_collab = { **author_collab, **bio_id2users }"
   ]
  },
  {
   "cell_type": "code",
   "execution_count": 105,
   "metadata": {},
   "outputs": [],
   "source": [
    "pickle.dump(author_collab, open('/home/jx4237/projects/web_page/knowledge_graph_vis/knowledge_graph_viz/raw_data/author_dataset_bioentity_collaborators.pkl', 'wb'))"
   ]
  },
  {
   "cell_type": "code",
   "execution_count": 106,
   "metadata": {},
   "outputs": [],
   "source": [
    "authors = pd.read_csv('/home/jx4237/projects/web_page/knowledge_graph_vis/knowledge_graph_viz/work/data/author_dataset_bio_entity.csv')\n",
    "author_set = set(authors['id'].to_list())\n",
    "def clean_author_collab(author_collab, author_set):\n",
    "    # Remove keys not in author_set\n",
    "    keys_to_remove = [key for key in author_collab if key not in author_set]\n",
    "    for key in keys_to_remove:\n",
    "        del author_collab[key]\n",
    "\n",
    "    # Remove values not in author_set\n",
    "    for key in author_collab:\n",
    "        author_collab[key] = [value for value in author_collab[key] if value in author_set]\n",
    "\n",
    "# Clean the dictionary\n",
    "clean_author_collab(author_collab, author_set)"
   ]
  },
  {
   "cell_type": "code",
   "execution_count": 107,
   "metadata": {},
   "outputs": [],
   "source": [
    "import json\n",
    "file_name = '/home/jx4237/projects/web_page/knowledge_graph_vis/knowledge_graph_viz/work/data/author_collab_dataset_bioentity.json'\n",
    "\n",
    "# Open the file in write mode and use json.dump to write the dictionary to the file\n",
    "# write to /home/jx4237/projects/web_page/knowledge_graph_vis/knowledge_graph_viz/work/data/author_collab_dataset_bioentity.json\n",
    "with open(file_name, 'w') as json_file:\n",
    "    json.dump(author_collab, json_file, indent=4)\n"
   ]
  },
  {
   "cell_type": "code",
   "execution_count": 108,
   "metadata": {},
   "outputs": [],
   "source": [
    "dataset_index_embeddings = {}\n",
    "for index, dataset in index_to_entity.items():\n",
    "    dataset_index_embeddings[index] = entity_embeddings[dataset]"
   ]
  },
  {
   "cell_type": "code",
   "execution_count": 71,
   "metadata": {},
   "outputs": [],
   "source": [
    "# dataset_index_embeddings"
   ]
  },
  {
   "cell_type": "code",
   "execution_count": 109,
   "metadata": {},
   "outputs": [],
   "source": [
    "with gzip.open(\"/home/jx4237/projects/web_page/knowledge_graph_vis/knowledge_graph_viz/raw_data/author_embeddings.pkl.gz\", \"rb\") as f:\n",
    "    author_ebd = pickle.load(f)\n",
    "author_ebd_filtered = {key: value for key, value in author_ebd.items() if key in author_set}\n",
    "\n",
    "import numpy as np\n",
    "\n",
    "def get_top_n_similar_authors(author_ebd_filtered, dataset_id, N=5):\n",
    "    # Check if the author_id exists in the dictionary\n",
    "    if dataset_id not in dataset_index_embeddings:\n",
    "        raise ValueError(f\"Author ID {dataset_id} not found in the author embeddings.\")\n",
    "    \n",
    "    # Get the embedding of the target author\n",
    "    target_embedding = dataset_index_embeddings[dataset_id]\n",
    "    \n",
    "    # Initialize a list to store similarities\n",
    "    similarities = []\n",
    "    \n",
    "    # Compute cosine similarity between the target author and all other authors\n",
    "    for other_id, other_embedding in author_ebd_filtered.items():\n",
    "        if other_id != dataset_id and  other_id not in author_collab[dataset_id]:  # Exclude the target author from the comparison\n",
    "            cosine_similarity = np.dot(target_embedding, other_embedding) / (np.linalg.norm(target_embedding) * np.linalg.norm(other_embedding))\n",
    "            similarities.append((other_id, cosine_similarity))\n",
    "    \n",
    "    # Sort the list by similarity in descending order and get the top N\n",
    "    similarities.sort(key=lambda x: x[1], reverse=True)\n",
    "    top_n_similar_authors = [author_id for author_id, _ in similarities[:N]]\n",
    "    \n",
    "    return top_n_similar_authors\n"
   ]
  },
  {
   "cell_type": "code",
   "execution_count": 110,
   "metadata": {},
   "outputs": [
    {
     "name": "stderr",
     "output_type": "stream",
     "text": [
      "100%|██████████| 5000/5000 [1:12:00<00:00,  1.16it/s]\n"
     ]
    }
   ],
   "source": [
    "import csv\n",
    "import gzip\n",
    "from tqdm import tqdm\n",
    "\n",
    "import numpy as np\n",
    "\n",
    "# Open a gzip-compressed file for writing\n",
    "with gzip.open('/home/jx4237/projects/web_page/knowledge_graph_vis/knowledge_graph_viz/raw_data/bioentity_author_recommendations.csv.gz', 'wt', newline='') as gzfile:\n",
    "    writer = csv.writer(gzfile)\n",
    "    \n",
    "    # Write the header\n",
    "    writer.writerow(['BioID', 'Recommended AID'])\n",
    "    \n",
    "    # Iterate over each author ID in author_collab\n",
    "    for datasetid in tqdm(dataset_index_embeddings.keys()):\n",
    "        # Get the top 30 recommended authors for the current author_id\n",
    "        recommended_authors = get_top_n_similar_authors(author_ebd_filtered, datasetid, N=30)\n",
    "        \n",
    "        # Write each pair (author_id, recommended_id) to the CSV\n",
    "        for recommended_id in recommended_authors:\n",
    "            writer.writerow([datasetid, recommended_id])"
   ]
  }
 ],
 "metadata": {
  "kernelspec": {
   "display_name": "Python 3",
   "language": "python",
   "name": "python3"
  },
  "language_info": {
   "codemirror_mode": {
    "name": "ipython",
    "version": 3
   },
   "file_extension": ".py",
   "mimetype": "text/x-python",
   "name": "python",
   "nbconvert_exporter": "python",
   "pygments_lexer": "ipython3",
   "version": "3.10.13"
  }
 },
 "nbformat": 4,
 "nbformat_minor": 2
}
