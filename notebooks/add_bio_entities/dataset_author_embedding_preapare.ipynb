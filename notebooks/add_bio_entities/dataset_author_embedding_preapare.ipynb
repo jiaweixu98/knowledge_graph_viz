{
 "cells": [
  {
   "cell_type": "code",
   "execution_count": 2,
   "metadata": {},
   "outputs": [],
   "source": [
    "import pickle\n",
    "dataset_embeddings = pickle.load(open('/home/jx4237/projects/web_page/knowledge_graph_vis/knowledge_graph_viz/raw_data/dataset_embeddings.pkl', 'rb'))\n",
    "index_to_dataset = pickle.load(open('/home/jx4237/projects/web_page/knowledge_graph_vis/knowledge_graph_viz/raw_data/index_to_dataset.pkl', 'rb'))\n",
    "bio_entity_embeddings = pickle.load(open('/home/jx4237/projects/web_page/knowledge_graph_vis/knowledge_graph_viz/raw_data/entity_embeddings.pkl', 'rb'))\n",
    "index_to_bio_entity = pickle.load(open('/home/jx4237/projects/web_page/knowledge_graph_vis/knowledge_graph_viz/raw_data/index_to_entity.pkl', 'rb'))"
   ]
  },
  {
   "cell_type": "code",
   "execution_count": 3,
   "metadata": {},
   "outputs": [],
   "source": [
    "dataset_index_embeddings = {}\n",
    "for index, dataset in index_to_dataset.items():\n",
    "    dataset_index_embeddings[index] = dataset_embeddings[dataset]\n",
    "\n",
    "bio_entity_index_embeddings = {}\n",
    "for index, entity in index_to_bio_entity.items():\n",
    "    bio_entity_index_embeddings[index] = bio_entity_embeddings[entity]"
   ]
  },
  {
   "cell_type": "code",
   "execution_count": 4,
   "metadata": {},
   "outputs": [
    {
     "data": {
      "text/plain": [
       "44674"
      ]
     },
     "execution_count": 4,
     "metadata": {},
     "output_type": "execute_result"
    }
   ],
   "source": [
    "import pickle\n",
    "import gzip\n",
    "\n",
    "# Load the dictionary from the .gz file\n",
    "with gzip.open('/home/jx4237/projects/web_page/knowledge_graph_vis/knowledge_graph_viz/raw_data/author_embeddings.pkl.gz', 'rb') as f:\n",
    "    author_embeddings = pickle.load(f)\n",
    "len(author_embeddings)"
   ]
  },
  {
   "cell_type": "code",
   "execution_count": 5,
   "metadata": {},
   "outputs": [],
   "source": [
    "author_embeddings = { **author_embeddings, **dataset_index_embeddings, **bio_entity_index_embeddings }"
   ]
  },
  {
   "cell_type": "code",
   "execution_count": 6,
   "metadata": {},
   "outputs": [],
   "source": [
    "import pandas as pd\n",
    "authors = pd.read_csv('/home/jx4237/projects/web_page/knowledge_graph_vis/knowledge_graph_viz/work/data/author_dataset_bio_entity.csv')"
   ]
  },
  {
   "cell_type": "code",
   "execution_count": 7,
   "metadata": {},
   "outputs": [],
   "source": [
    "author_id_set = set(authors['id'].to_list()) & set(author_embeddings.keys())"
   ]
  },
  {
   "cell_type": "code",
   "execution_count": 8,
   "metadata": {},
   "outputs": [],
   "source": [
    "authors = authors[authors['id'].isin(author_id_set)]"
   ]
  },
  {
   "cell_type": "code",
   "execution_count": 10,
   "metadata": {},
   "outputs": [
    {
     "data": {
      "text/html": [
       "<div>\n",
       "<style scoped>\n",
       "    .dataframe tbody tr th:only-of-type {\n",
       "        vertical-align: middle;\n",
       "    }\n",
       "\n",
       "    .dataframe tbody tr th {\n",
       "        vertical-align: top;\n",
       "    }\n",
       "\n",
       "    .dataframe thead th {\n",
       "        text-align: right;\n",
       "    }\n",
       "</style>\n",
       "<table border=\"1\" class=\"dataframe\">\n",
       "  <thead>\n",
       "    <tr style=\"text-align: right;\">\n",
       "      <th></th>\n",
       "      <th>id</th>\n",
       "      <th>FullName</th>\n",
       "      <th>BeginYear</th>\n",
       "      <th>PaperNum</th>\n",
       "      <th>CM4AI</th>\n",
       "      <th>RecentYear</th>\n",
       "      <th>Index</th>\n",
       "      <th>is_author</th>\n",
       "      <th>index</th>\n",
       "      <th>color_category</th>\n",
       "      <th>Affiliation</th>\n",
       "      <th>Data_Source</th>\n",
       "      <th>Data_Description</th>\n",
       "      <th>Data_url</th>\n",
       "      <th>pmids_string</th>\n",
       "    </tr>\n",
       "  </thead>\n",
       "  <tbody>\n",
       "    <tr>\n",
       "      <th>0</th>\n",
       "      <td>225</td>\n",
       "      <td>Baba Inusa</td>\n",
       "      <td>2005</td>\n",
       "      <td>102</td>\n",
       "      <td>NaN</td>\n",
       "      <td>2024</td>\n",
       "      <td>0</td>\n",
       "      <td>1</td>\n",
       "      <td>0</td>\n",
       "      <td>0</td>\n",
       "      <td>Evelina Children's Hospital, Guy's and St. Tho...</td>\n",
       "      <td>NaN</td>\n",
       "      <td>NaN</td>\n",
       "      <td>NaN</td>\n",
       "      <td>37807937,34339316,35947137,36018224,37171600,3...</td>\n",
       "    </tr>\n",
       "    <tr>\n",
       "      <th>1</th>\n",
       "      <td>878</td>\n",
       "      <td>Rutger Schutten</td>\n",
       "      <td>2017</td>\n",
       "      <td>5</td>\n",
       "      <td>NaN</td>\n",
       "      <td>2022</td>\n",
       "      <td>1</td>\n",
       "      <td>1</td>\n",
       "      <td>1</td>\n",
       "      <td>5</td>\n",
       "      <td>KTH - Royal Institute of Technology</td>\n",
       "      <td>NaN</td>\n",
       "      <td>NaN</td>\n",
       "      <td>NaN</td>\n",
       "      <td>35931766,33627808,30125267,27723985,28495876</td>\n",
       "    </tr>\n",
       "    <tr>\n",
       "      <th>2</th>\n",
       "      <td>1098</td>\n",
       "      <td>Vardit Ravitsky (CM4AI)</td>\n",
       "      <td>2002</td>\n",
       "      <td>192</td>\n",
       "      <td>1.0</td>\n",
       "      <td>2023</td>\n",
       "      <td>2</td>\n",
       "      <td>1</td>\n",
       "      <td>2</td>\n",
       "      <td>3</td>\n",
       "      <td>The Hastings Center</td>\n",
       "      <td>NaN</td>\n",
       "      <td>NaN</td>\n",
       "      <td>NaN</td>\n",
       "      <td>35725302,36350287,36916763,36919551,37382787,3...</td>\n",
       "    </tr>\n",
       "    <tr>\n",
       "      <th>3</th>\n",
       "      <td>1352</td>\n",
       "      <td>Ursula Grohmann</td>\n",
       "      <td>1988</td>\n",
       "      <td>158</td>\n",
       "      <td>NaN</td>\n",
       "      <td>2023</td>\n",
       "      <td>3</td>\n",
       "      <td>1</td>\n",
       "      <td>3</td>\n",
       "      <td>0</td>\n",
       "      <td>University of Perugia</td>\n",
       "      <td>NaN</td>\n",
       "      <td>NaN</td>\n",
       "      <td>NaN</td>\n",
       "      <td>35917118,34145969,35409342,33451129,33693650,2...</td>\n",
       "    </tr>\n",
       "    <tr>\n",
       "      <th>4</th>\n",
       "      <td>1592</td>\n",
       "      <td>Sharon R Lewin</td>\n",
       "      <td>1993</td>\n",
       "      <td>373</td>\n",
       "      <td>NaN</td>\n",
       "      <td>2023</td>\n",
       "      <td>4</td>\n",
       "      <td>1</td>\n",
       "      <td>4</td>\n",
       "      <td>5</td>\n",
       "      <td>The University of Melbourne at the Peter Doher...</td>\n",
       "      <td>NaN</td>\n",
       "      <td>NaN</td>\n",
       "      <td>NaN</td>\n",
       "      <td>36384811,36502576,36541637,36776833,36842873,3...</td>\n",
       "    </tr>\n",
       "    <tr>\n",
       "      <th>...</th>\n",
       "      <td>...</td>\n",
       "      <td>...</td>\n",
       "      <td>...</td>\n",
       "      <td>...</td>\n",
       "      <td>...</td>\n",
       "      <td>...</td>\n",
       "      <td>...</td>\n",
       "      <td>...</td>\n",
       "      <td>...</td>\n",
       "      <td>...</td>\n",
       "      <td>...</td>\n",
       "      <td>...</td>\n",
       "      <td>...</td>\n",
       "      <td>...</td>\n",
       "      <td>...</td>\n",
       "    </tr>\n",
       "    <tr>\n",
       "      <th>34526</th>\n",
       "      <td>223000004995</td>\n",
       "      <td>type B interruption of the aortic arch</td>\n",
       "      <td>2020</td>\n",
       "      <td>100</td>\n",
       "      <td>0.0</td>\n",
       "      <td>0</td>\n",
       "      <td>34526</td>\n",
       "      <td>0</td>\n",
       "      <td>34526</td>\n",
       "      <td>6</td>\n",
       "      <td>NaN</td>\n",
       "      <td>disease</td>\n",
       "      <td>mim217095</td>\n",
       "      <td>https://bioregistry.io/mim:217095</td>\n",
       "      <td>NaN</td>\n",
       "    </tr>\n",
       "    <tr>\n",
       "      <th>34527</th>\n",
       "      <td>223000004996</td>\n",
       "      <td>MPMs</td>\n",
       "      <td>2020</td>\n",
       "      <td>100</td>\n",
       "      <td>0.0</td>\n",
       "      <td>0</td>\n",
       "      <td>34527</td>\n",
       "      <td>0</td>\n",
       "      <td>34527</td>\n",
       "      <td>6</td>\n",
       "      <td>NaN</td>\n",
       "      <td>disease</td>\n",
       "      <td>mim605711</td>\n",
       "      <td>https://bioregistry.io/mim:605711</td>\n",
       "      <td>NaN</td>\n",
       "    </tr>\n",
       "    <tr>\n",
       "      <th>34528</th>\n",
       "      <td>223000004997</td>\n",
       "      <td>CRIB</td>\n",
       "      <td>2020</td>\n",
       "      <td>100</td>\n",
       "      <td>0.0</td>\n",
       "      <td>0</td>\n",
       "      <td>34528</td>\n",
       "      <td>0</td>\n",
       "      <td>34528</td>\n",
       "      <td>6</td>\n",
       "      <td>NaN</td>\n",
       "      <td>disease</td>\n",
       "      <td>mim609165</td>\n",
       "      <td>https://bioregistry.io/mim:609165</td>\n",
       "      <td>NaN</td>\n",
       "    </tr>\n",
       "    <tr>\n",
       "      <th>34529</th>\n",
       "      <td>223000004998</td>\n",
       "      <td>mesial temporal lobe epilepsy</td>\n",
       "      <td>2020</td>\n",
       "      <td>100</td>\n",
       "      <td>0.0</td>\n",
       "      <td>0</td>\n",
       "      <td>34529</td>\n",
       "      <td>0</td>\n",
       "      <td>34529</td>\n",
       "      <td>6</td>\n",
       "      <td>NaN</td>\n",
       "      <td>disease</td>\n",
       "      <td>mim611630</td>\n",
       "      <td>https://bioregistry.io/mim:611630</td>\n",
       "      <td>NaN</td>\n",
       "    </tr>\n",
       "    <tr>\n",
       "      <th>34530</th>\n",
       "      <td>223000004999</td>\n",
       "      <td>non-MAR retinopathy</td>\n",
       "      <td>2020</td>\n",
       "      <td>100</td>\n",
       "      <td>0.0</td>\n",
       "      <td>0</td>\n",
       "      <td>34530</td>\n",
       "      <td>0</td>\n",
       "      <td>34530</td>\n",
       "      <td>6</td>\n",
       "      <td>NaN</td>\n",
       "      <td>disease</td>\n",
       "      <td>mim612635</td>\n",
       "      <td>https://bioregistry.io/mim:612635</td>\n",
       "      <td>NaN</td>\n",
       "    </tr>\n",
       "  </tbody>\n",
       "</table>\n",
       "<p>34531 rows × 15 columns</p>\n",
       "</div>"
      ],
      "text/plain": [
       "                 id                                FullName  BeginYear  \\\n",
       "0               225                              Baba Inusa       2005   \n",
       "1               878                         Rutger Schutten       2017   \n",
       "2              1098                 Vardit Ravitsky (CM4AI)       2002   \n",
       "3              1352                         Ursula Grohmann       1988   \n",
       "4              1592                          Sharon R Lewin       1993   \n",
       "...             ...                                     ...        ...   \n",
       "34526  223000004995  type B interruption of the aortic arch       2020   \n",
       "34527  223000004996                                    MPMs       2020   \n",
       "34528  223000004997                                    CRIB       2020   \n",
       "34529  223000004998           mesial temporal lobe epilepsy       2020   \n",
       "34530  223000004999                     non-MAR retinopathy       2020   \n",
       "\n",
       "       PaperNum  CM4AI  RecentYear  Index  is_author  index  color_category  \\\n",
       "0           102    NaN        2024      0          1      0               0   \n",
       "1             5    NaN        2022      1          1      1               5   \n",
       "2           192    1.0        2023      2          1      2               3   \n",
       "3           158    NaN        2023      3          1      3               0   \n",
       "4           373    NaN        2023      4          1      4               5   \n",
       "...         ...    ...         ...    ...        ...    ...             ...   \n",
       "34526       100    0.0           0  34526          0  34526               6   \n",
       "34527       100    0.0           0  34527          0  34527               6   \n",
       "34528       100    0.0           0  34528          0  34528               6   \n",
       "34529       100    0.0           0  34529          0  34529               6   \n",
       "34530       100    0.0           0  34530          0  34530               6   \n",
       "\n",
       "                                             Affiliation Data_Source  \\\n",
       "0      Evelina Children's Hospital, Guy's and St. Tho...         NaN   \n",
       "1                    KTH - Royal Institute of Technology         NaN   \n",
       "2                                    The Hastings Center         NaN   \n",
       "3                                  University of Perugia         NaN   \n",
       "4      The University of Melbourne at the Peter Doher...         NaN   \n",
       "...                                                  ...         ...   \n",
       "34526                                                NaN     disease   \n",
       "34527                                                NaN     disease   \n",
       "34528                                                NaN     disease   \n",
       "34529                                                NaN     disease   \n",
       "34530                                                NaN     disease   \n",
       "\n",
       "      Data_Description                           Data_url  \\\n",
       "0                  NaN                                NaN   \n",
       "1                  NaN                                NaN   \n",
       "2                  NaN                                NaN   \n",
       "3                  NaN                                NaN   \n",
       "4                  NaN                                NaN   \n",
       "...                ...                                ...   \n",
       "34526        mim217095  https://bioregistry.io/mim:217095   \n",
       "34527        mim605711  https://bioregistry.io/mim:605711   \n",
       "34528        mim609165  https://bioregistry.io/mim:609165   \n",
       "34529        mim611630  https://bioregistry.io/mim:611630   \n",
       "34530        mim612635  https://bioregistry.io/mim:612635   \n",
       "\n",
       "                                            pmids_string  \n",
       "0      37807937,34339316,35947137,36018224,37171600,3...  \n",
       "1           35931766,33627808,30125267,27723985,28495876  \n",
       "2      35725302,36350287,36916763,36919551,37382787,3...  \n",
       "3      35917118,34145969,35409342,33451129,33693650,2...  \n",
       "4      36384811,36502576,36541637,36776833,36842873,3...  \n",
       "...                                                  ...  \n",
       "34526                                                NaN  \n",
       "34527                                                NaN  \n",
       "34528                                                NaN  \n",
       "34529                                                NaN  \n",
       "34530                                                NaN  \n",
       "\n",
       "[34531 rows x 15 columns]"
      ]
     },
     "execution_count": 10,
     "metadata": {},
     "output_type": "execute_result"
    }
   ],
   "source": [
    "authors = authors.reset_index(drop=True)\n",
    "authors['Index'] = authors.index\n",
    "authors"
   ]
  },
  {
   "cell_type": "code",
   "execution_count": 11,
   "metadata": {},
   "outputs": [],
   "source": [
    "index2aid = authors.groupby('Index')['id'].apply(lambda x: x.iloc[0]).to_dict()\n",
    "aid2index = {v: k for k, v in index2aid.items()}\n",
    "author_embeddings_single = {int(k): v for k, v in author_embeddings.items() if k in aid2index}"
   ]
  },
  {
   "cell_type": "code",
   "execution_count": 13,
   "metadata": {},
   "outputs": [
    {
     "name": "stderr",
     "output_type": "stream",
     "text": [
      "100%|██████████| 34531/34531 [00:10<00:00, 3180.11it/s]\n"
     ]
    },
    {
     "data": {
      "text/plain": [
       "'/home/jx4237/projects/web_page/knowledge_graph_vis/knowledge_graph_viz/work/data/tkg_34kAuthor_Dataset_bioentity.w2v'"
      ]
     },
     "execution_count": 13,
     "metadata": {},
     "output_type": "execute_result"
    }
   ],
   "source": [
    "from tqdm import tqdm\n",
    "fname = f\"/home/jx4237/projects/web_page/knowledge_graph_vis/knowledge_graph_viz/work/data/tkg_34kAuthor_Dataset_bioentity.w2v\"\n",
    "with open(fname, 'wt') as f:\n",
    "    tab = ' '\n",
    "    nl = '\\n'\n",
    "    f.write(f\"{len(author_embeddings_single)}{tab}768{nl}\")\n",
    "    for key, embedding in tqdm(author_embeddings_single.items()):\n",
    "        f.write(f\"{aid2index[key]}{tab}{tab.join(map(str, embedding))}{nl}\")\n",
    "fname"
   ]
  },
  {
   "cell_type": "code",
   "execution_count": 14,
   "metadata": {},
   "outputs": [],
   "source": [
    "import numpy as np\n",
    "import matplotlib.pyplot as plt\n",
    "import math\n",
    "from gensim.models import KeyedVectors\n",
    "import pandas as pd\n",
    "import emblaze\n",
    "from emblaze.utils import Field, ProjectionTechnique\n",
    "from collections import defaultdict, namedtuple"
   ]
  },
  {
   "cell_type": "code",
   "execution_count": 15,
   "metadata": {},
   "outputs": [],
   "source": [
    "wv = KeyedVectors.load_word2vec_format(fname)"
   ]
  },
  {
   "cell_type": "code",
   "execution_count": 16,
   "metadata": {},
   "outputs": [],
   "source": [
    "all_author_pd = pd.read_csv('/home/jx4237/projects/web_page/knowledge_graph_vis/knowledge_graph_viz/work/data/author_dataset_bio_entity.csv')\n",
    "all_author_pd = all_author_pd[all_author_pd['id'].isin(set(author_embeddings_single.keys()))]"
   ]
  },
  {
   "cell_type": "code",
   "execution_count": null,
   "metadata": {},
   "outputs": [],
   "source": [
    "# all_author_pd.to_csv('/data/jx4237data/projects/web_page/cm4ai_tkg/work/data/author_dataset_filtered.csv', index=False)"
   ]
  },
  {
   "cell_type": "code",
   "execution_count": 18,
   "metadata": {},
   "outputs": [
    {
     "name": "stdout",
     "output_type": "stream",
     "text": [
      "author count: 34531; wv len: 34531\n"
     ]
    }
   ],
   "source": [
    "all_authors = []\n",
    "all_author_pd = all_author_pd.reset_index(drop=True)\n",
    "all_author_pd['index'] = all_author_pd.index\n",
    "for author in all_author_pd.itertuples(index=False):\n",
    "    all_authors.append(author)\n",
    "print(f\"author count: {len(all_authors)}; wv len: {len(wv.index_to_key)}\")"
   ]
  },
  {
   "cell_type": "code",
   "execution_count": 19,
   "metadata": {},
   "outputs": [],
   "source": [
    "def ix_to_ix(ix):\n",
    "    return int(wv.index_to_key[ix])\n",
    "\n",
    "def author_by_ix(ix):\n",
    "    ix = ix_to_ix(ix)\n",
    "    try: \n",
    "        all_authors[ix]\n",
    "    except:\n",
    "        print(f\"ix: {ix}\")\n",
    "    return all_authors[ix]"
   ]
  },
  {
   "cell_type": "code",
   "execution_count": 20,
   "metadata": {},
   "outputs": [
    {
     "data": {
      "text/plain": [
       "34531"
      ]
     },
     "execution_count": 20,
     "metadata": {},
     "output_type": "execute_result"
    }
   ],
   "source": [
    "len(wv.vectors)"
   ]
  },
  {
   "cell_type": "code",
   "execution_count": 21,
   "metadata": {},
   "outputs": [],
   "source": [
    "positions = wv.vectors\n",
    "names = [author_by_ix(index).FullName for index in range(len(wv.vectors))]\n",
    "colors = [author_by_ix(index).BeginYear if int(author_by_ix(index).BeginYear) > 1980 else 1980 for index in range(len(wv.vectors))]\n",
    "sizes = [math.sqrt(author_by_ix(index).PaperNum)/6.  for index in range(len(wv.vectors))]\n",
    "\n",
    "emb = emblaze.Embedding({Field.POSITION: positions, Field.NAME: names, Field.COLOR: colors, Field.RADIUS: sizes}, n_neighbors=20,)\n",
    "# neighbors id are just from 0 to n-1, need wv.index_to_key to get the real index\n",
    "emb.compute_neighbors(metric='cosine')"
   ]
  },
  {
   "cell_type": "code",
   "execution_count": 22,
   "metadata": {},
   "outputs": [],
   "source": [
    "import json\n",
    "import math\n",
    "\n",
    "projection = emb.project(method=ProjectionTechnique.TSNE, perplexity=40, learning_rate='auto', init='pca', early_exaggeration=1.3)\n",
    "\n",
    "serialized = projection.to_json(compressed=False, save_neighbors=False)"
   ]
  },
  {
   "cell_type": "code",
   "execution_count": 23,
   "metadata": {},
   "outputs": [],
   "source": [
    "serialized['ids'] = [author_by_ix(i).id for i in range(len(wv.index_to_key))]"
   ]
  },
  {
   "cell_type": "code",
   "execution_count": 24,
   "metadata": {},
   "outputs": [],
   "source": [
    "neighbors_json = emb.get_neighbors().to_json(compressed=False)"
   ]
  },
  {
   "cell_type": "code",
   "execution_count": 25,
   "metadata": {},
   "outputs": [],
   "source": [
    "df_rec_authors = pd.read_csv('/home/jx4237/projects/web_page/knowledge_graph_vis/knowledge_graph_viz/raw_data/author_recommendations.csv.gz', compression='gzip')"
   ]
  },
  {
   "cell_type": "code",
   "execution_count": 26,
   "metadata": {},
   "outputs": [],
   "source": [
    "df_rec_authors['AID_index'] = df_rec_authors['AID'].apply(lambda x: wv.key_to_index.get(str(aid2index.get(x))))\n",
    "df_rec_authors['recommended_author_id_index'] = df_rec_authors['recommended_author_id'].apply(lambda x: wv.key_to_index.get(str(aid2index.get(x))))\n",
    "df_rec_authors.dropna(subset=['AID_index', 'recommended_author_id_index'], inplace=True)\n",
    "df_rec_authors['AID_index'] = df_rec_authors['AID_index'].astype(int)\n",
    "df_rec_authors['recommended_author_id_index'] = df_rec_authors['recommended_author_id_index'].astype(int)\n",
    "result_dict = df_rec_authors.groupby('AID_index')['recommended_author_id_index'].apply(list).to_dict()"
   ]
  },
  {
   "cell_type": "code",
   "execution_count": 27,
   "metadata": {},
   "outputs": [],
   "source": [
    "df_rec_authors_dataset = pd.read_csv('/home/jx4237/projects/web_page/knowledge_graph_vis/knowledge_graph_viz/raw_data/dataset_author_recommendations.csv.gz', compression='gzip')\n",
    "\n",
    "df_rec_authors_dataset['DatasetID_index'] = df_rec_authors_dataset['DatasetID'].apply(lambda x: wv.key_to_index.get(str(aid2index.get(x))))\n",
    "df_rec_authors_dataset['recommended_author_id_index'] = df_rec_authors_dataset['recommended_author_id'].apply(lambda x: wv.key_to_index.get(str(aid2index.get(x))))\n",
    "df_rec_authors_dataset.dropna(subset=['DatasetID_index', 'recommended_author_id_index'], inplace=True)\n",
    "df_rec_authors_dataset['DatasetID_index'] = df_rec_authors_dataset['DatasetID_index'].astype(int)\n",
    "df_rec_authors_dataset['recommended_author_id_index'] = df_rec_authors_dataset['recommended_author_id_index'].astype(int)\n",
    "result_dict_dataset = df_rec_authors_dataset.groupby('DatasetID_index')['recommended_author_id_index'].apply(list).to_dict()"
   ]
  },
  {
   "cell_type": "code",
   "execution_count": 28,
   "metadata": {},
   "outputs": [],
   "source": [
    "df_rec_authors_bio = pd.read_csv('/home/jx4237/projects/web_page/knowledge_graph_vis/knowledge_graph_viz/raw_data/bioentity_author_recommendations.csv.gz', compression='gzip')\n",
    "df_rec_authors_bio['BioEntityID_index'] = df_rec_authors_bio['BioID'].apply(lambda x: wv.key_to_index.get(str(aid2index.get(x))))\n",
    "df_rec_authors_bio['recommended_author_id_index'] = df_rec_authors_bio['Recommended AID'].apply(lambda x: wv.key_to_index.get(str(aid2index.get(x))))\n",
    "df_rec_authors_bio.dropna(subset=['BioEntityID_index', 'recommended_author_id_index'], inplace=True)\n",
    "df_rec_authors_bio['BioEntityID_index'] = df_rec_authors_bio['BioEntityID_index'].astype(int)\n",
    "df_rec_authors_bio['recommended_author_id_index'] = df_rec_authors_bio['recommended_author_id_index'].astype(int)\n",
    "result_dict_bio = df_rec_authors_bio.groupby('BioEntityID_index')['recommended_author_id_index'].apply(list).to_dict()"
   ]
  },
  {
   "cell_type": "code",
   "execution_count": 29,
   "metadata": {},
   "outputs": [],
   "source": [
    "result_dict = {**result_dict, **result_dict_dataset, **result_dict_bio}"
   ]
  },
  {
   "cell_type": "code",
   "execution_count": 30,
   "metadata": {},
   "outputs": [],
   "source": [
    "neighbors_json['neighbors'] = result_dict"
   ]
  },
  {
   "cell_type": "code",
   "execution_count": 31,
   "metadata": {},
   "outputs": [],
   "source": [
    "serialized['neighbors'] = neighbors_json\n",
    "with open('/home/jx4237/projects/web_page/knowledge_graph_vis/knowledge_graph_viz/work/data/tkg_ebd_34k_dataset_bioentity.json', 'wt') as f:\n",
    "    f.write(json.dumps(serialized))"
   ]
  }
 ],
 "metadata": {
  "kernelspec": {
   "display_name": "Python 3",
   "language": "python",
   "name": "python3"
  },
  "language_info": {
   "codemirror_mode": {
    "name": "ipython",
    "version": 3
   },
   "file_extension": ".py",
   "mimetype": "text/x-python",
   "name": "python",
   "nbconvert_exporter": "python",
   "pygments_lexer": "ipython3",
   "version": "3.10.13"
  }
 },
 "nbformat": 4,
 "nbformat_minor": 2
}
