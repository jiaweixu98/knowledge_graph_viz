{
 "cells": [
  {
   "cell_type": "code",
   "execution_count": 1,
   "metadata": {},
   "outputs": [],
   "source": [
    "import pandas as pd\n",
    "import pickle\n",
    "import gzip\n",
    "\n",
    "with gzip.open(\"author_collaborators.pkl.gz\", \"rb\") as f:\n",
    "    author_collab = pickle.load(f)"
   ]
  },
  {
   "cell_type": "code",
   "execution_count": 6,
   "metadata": {},
   "outputs": [],
   "source": [
    "authors = pd. read_csv(\"/data/jx4237data/projects/web_page/talentKnowledgeGraph/work/data/processed_authors_more_than_single_recent_pub.csv\")"
   ]
  },
  {
   "cell_type": "code",
   "execution_count": 9,
   "metadata": {},
   "outputs": [],
   "source": [
    "author_set = set(authors['id'].to_list())"
   ]
  },
  {
   "cell_type": "code",
   "execution_count": 12,
   "metadata": {},
   "outputs": [],
   "source": [
    "def clean_author_collab(author_collab, author_set):\n",
    "    # Remove keys not in author_set\n",
    "    keys_to_remove = [key for key in author_collab if key not in author_set]\n",
    "    for key in keys_to_remove:\n",
    "        del author_collab[key]\n",
    "\n",
    "    # Remove values not in author_set\n",
    "    for key in author_collab:\n",
    "        author_collab[key] = [value for value in author_collab[key] if value in author_set]\n",
    "\n",
    "# Clean the dictionary\n",
    "clean_author_collab(author_collab, author_set)"
   ]
  },
  {
   "cell_type": "code",
   "execution_count": 14,
   "metadata": {},
   "outputs": [],
   "source": [
    "import json\n",
    "file_name = 'author_collab.json'\n",
    "\n",
    "# Open the file in write mode and use json.dump to write the dictionary to the file\n",
    "with open(file_name, 'w') as json_file:\n",
    "    json.dump(author_collab, json_file, indent=4)"
   ]
  }
 ],
 "metadata": {
  "kernelspec": {
   "display_name": "sprout-env",
   "language": "python",
   "name": "python3"
  },
  "language_info": {
   "codemirror_mode": {
    "name": "ipython",
    "version": 3
   },
   "file_extension": ".py",
   "mimetype": "text/x-python",
   "name": "python",
   "nbconvert_exporter": "python",
   "pygments_lexer": "ipython3",
   "version": "3.10.13"
  }
 },
 "nbformat": 4,
 "nbformat_minor": 2
}
