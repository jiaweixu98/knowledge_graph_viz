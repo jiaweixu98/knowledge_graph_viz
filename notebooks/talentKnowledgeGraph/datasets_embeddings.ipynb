{
 "cells": [
  {
   "cell_type": "code",
   "execution_count": 4,
   "metadata": {},
   "outputs": [],
   "source": [
    "import pandas as pd\n",
    "pmid_dataset = pd.read_csv('/data/jx4237data/TKG/TKG_JCDL/Bridge2AI_2m/pmid_dataset.csv.gz')"
   ]
  },
  {
   "cell_type": "code",
   "execution_count": 6,
   "metadata": {},
   "outputs": [],
   "source": [
    "import numpy as np\n",
    "# read the .npz file\n",
    "tkg_embeddings_all = np.load('/data/jx4237data/Graph-CoT/Pipeline/updated_data/tkg_embeddings_all.npz')\n",
    "\n",
    "# access the data from the .npz file\n",
    "embeddings = tkg_embeddings_all['embeddings']\n",
    "ids = tkg_embeddings_all['ids']\n",
    "\n",
    "tkg_embeddings_new = np.load('/data/jx4237data/TKG/TKG_JCDL/Bridge2AI_10k/tkg_updated_360k_embeddings_all.npz')\n",
    "new_embeddings = tkg_embeddings_new['embeddings']\n",
    "new_ids = tkg_embeddings_new['ids']\n",
    "embeddings_dict = {id_: embedding for id_, embedding in zip(ids, embeddings)}\n",
    "new_embeddings_dict = {str(id_): embedding for id_, embedding in zip(new_ids, new_embeddings)}\n",
    "combined_embeddings_dict = {**embeddings_dict, **new_embeddings_dict}"
   ]
  },
  {
   "cell_type": "code",
   "execution_count": 17,
   "metadata": {},
   "outputs": [
    {
     "data": {
      "text/plain": [
       "'12108406'"
      ]
     },
     "execution_count": 17,
     "metadata": {},
     "output_type": "execute_result"
    }
   ],
   "source": [
    "list(combined_embeddings_dict.keys())[0]"
   ]
  },
  {
   "cell_type": "code",
   "execution_count": 19,
   "metadata": {},
   "outputs": [],
   "source": [
    "pmid_dataset['PMID'] = pmid_dataset['PMID'].astype(str)"
   ]
  },
  {
   "cell_type": "code",
   "execution_count": 22,
   "metadata": {},
   "outputs": [],
   "source": [
    "dataset_pmids = pmid_dataset.groupby('dataset')['PMID'].apply(list).to_dict()"
   ]
  },
  {
   "cell_type": "code",
   "execution_count": 23,
   "metadata": {},
   "outputs": [],
   "source": [
    "import numpy as np\n",
    "\n",
    "dataset_embeddings = {}\n",
    "for dataset, pmids in dataset_pmids.items():\n",
    "    embeddings = [combined_embeddings_dict[pmid] for pmid in pmids]\n",
    "    dataset_embeddings[dataset] = np.sum(embeddings, axis=0)"
   ]
  },
  {
   "cell_type": "code",
   "execution_count": 31,
   "metadata": {},
   "outputs": [],
   "source": [
    "# Protein-Protein Interaction Dataset (The Krogan Lab)\n",
    "protein_protein_interaction_Dataset = 'protein_protein_interaction dataset Protein-Protein Interaction Analysis Proteins typically do not function alone, but in physical or functional interaction with other proteins, forming macromolecular complexes. The complex cellular network of protein interactions is highly organized in time and space, and adapts dynamically to external and internal perturbations to define the cell’s functional state. Consequently, characterizing protein interaction networks and their dynamic changes in response to perturbations can better our understanding of protein function. In the Krogan lab, we use a variety of different techniques to study PPIs: Affinity-Purification mass spectrometry (AP-MS): Requires an affinity tagged bait (3xFLAG, Strep, GFP, etc.). Endogenous protein immunoprecipitation: When we are only interested in identifying or quantifying interaction partners for a single protein and we have a good antibody for that protein. Proximity-Labeling MS (APEX-MS): Relies on fusion of a labeling enzyme (APEX, BirA, etc.) to the protein of interest. This method labels everything in ~10-20nm proximity of your fusion protein, but direct binding proteins, as well as those only in spatial proximity. Can be better for identifying transient interaction partners, at the cost of decreased specificity. We often use affinity purification combined with quantitative mass spectrometry methods to characterize protein interactions networks. We apply these approaches towards understanding how viruses hijack the cellular machinery for replication and infection, and how genetic mutations cause rewiring of proteins interactions networks leading to the development of cancer or neuronal, cardiac or psyciatric disorders.'\n",
    "# Genetic Perturbations Dataset (Mali Lab)\n",
    "Genetic_Perturbations_single_cell_dataset = 'Genetic Perturbations (single cell) dataset Mapping Cellular Reprogramming via Pooled Overexpression Screens with Paired Fitness and Single-Cell RNA-Sequencing Readout Discovering reprogramming factors for cell fate conversion is a challenging process. Here, we demonstrate a highthroughput, high-content overexpression screening method, employing a coupled single-cell RNA-seq and fitness readout, to screen transcription factor overexpression effects on pluripotent stem cells under multiple growth conditions. From the screens, we can dissect transcriptomic responses, construct genetic co-regulatory networks, and identify reprogramming factors. We also demonstrate application of the method to systematically screen mutant forms of proteins and whole gene families. Highlights d Transcription factor overexpression in hPSCs is screened by an scRNA-seq-based method d Transcriptomic responses enable the construction of genetic co-regulatory networks d Fitness readout identifies ETV2 as a reprogramming factor to an endothelial-like state d Screening method is also applied to mutant proteins and whole gene families. Understanding the effects of genetic perturbations on the cellular state has been challenging using traditional pooled screens, which typically rely on the delivery of a single perturbation per cell and unidimensional phenotypic readouts. Here, we use barcoded open reading frame overexpression libraries coupled with single-cell RNA sequencing to assay cell state and fitness, a technique we call SEUSS (scalable functional screening by sequencing). Using SEUSS, we perturbed hPSCs with a library of developmentally critical transcription factors (TFs) and assayed the impact of TF overexpression on fitness and transcriptomic states. We further leveraged the versatility of the ORF library approach to assay mutant genes and whole gene families. From the transcriptomic responses, we built genetic co-regulatory networks to identify altered gene modules and found that KLF4 and SNAI2 drive opposing effects along the epithelial-mesenchymal transition axis. From the fitness responses, we identified ETV2 as a driver of reprogramming toward an endothelial-like state.'\n",
    "# Protein Imaging Dataset (Lundberg Lab)\n",
    "protein_image_dataset = 'A global multiscale map of protein assemblies from integration of protein interactions and images Cells regulate growth and function through a hierarchical structure of subcellular protein assemblies, in which alterations can result in cellular dysfunction leading to disease such as cancer. Much of this structure remains uncharted, resulting in recent efforts to map subcellular organization at different physical scales. Here, we report a global architectural map of human cancer cell protein assemblies spanning 10−9 to 10−5 nm, based on integration of near-proteome-wide affinity purification mass spectrometry-based protein interactions and immunofluorescent imaging in U-2 OS osteosarcoma cancer cells. The U-2 OS multi-scale integrated cell map places >5000 proteins into 270 distinct subcellular protein assemblies across biological scales, representing approximately half of expressed proteins. There are known organelles and protein complexes recovered in the map, as well as 152 putative assemblies, such as a putative interferon signaling complex consisting of a serine protease and STAT transcription factors. The map also incorporates 128 previously uncharacterized proteins into protein assemblies, such as C18orf21 association with a canonical RNAse complex. Protein subsystems in the U-2 OS map were evaluated for the potential for downstream integrative structural modeling, where available structural data (e.g. crosslinking, Protein Data Bank structures, AlphaFold predictions) are combined in a Bayesian framework to model the physical structures of protein complexes. Using this framework, we created an integrated structural model of new proteins interacting with the Rag-Ragulator complex, which regulates MAPK and mTOR signaling. In summary, the global proteome architecture map provides a resource for cellular biology discovery and the systematic determination of protein functions and structures.'"
   ]
  },
  {
   "cell_type": "code",
   "execution_count": 33,
   "metadata": {},
   "outputs": [
    {
     "name": "stderr",
     "output_type": "stream",
     "text": [
      "Fetching 4 files: 100%|██████████| 4/4 [00:00<00:00, 7646.86it/s]\n"
     ]
    }
   ],
   "source": [
    "import os\n",
    "\n",
    "from transformers import AutoTokenizer\n",
    "from adapters import AutoAdapterModel\n",
    "import torch\n",
    "\n",
    "os.environ[\"TOKENIZERS_PARALLELISM\"] = \"false\"\n",
    "os.environ[\"CUDA_VISIBLE_DEVICES\"] = \"0\"\n",
    "\n",
    "# Load model and tokenizer\n",
    "tokenizer = AutoTokenizer.from_pretrained('allenai/specter2_aug2023refresh_base')\n",
    "model = AutoAdapterModel.from_pretrained('allenai/specter2_aug2023refresh_base')\n",
    "\n",
    "model.load_adapter(\"allenai/specter2_aug2023refresh\", source=\"hf\", load_as=\"proximity\", set_active=True)\n",
    "device = torch.device(\"cuda\" if torch.cuda.is_available() else \"cpu\")\n",
    "model.to(device)\n",
    "\n",
    "docs = [protein_protein_interaction_Dataset, Genetic_Perturbations_single_cell_dataset, protein_image_dataset]\n",
    "inputs = tokenizer(list(docs), padding=True, truncation=True,\n",
    "                   return_tensors=\"pt\", return_token_type_ids=False, max_length=512)\n",
    "\n",
    "# Move all input tensors to the GPU\n",
    "inputs = {key: value.to(device) for key, value in inputs.items()}\n",
    "\n",
    "with torch.no_grad():  # Disable gradient calculations\n",
    "    output = model(**inputs)\n",
    "    batch_embeddings = output.last_hidden_state[:, 0, :].cpu()  # Move embeddings back to CPU"
   ]
  },
  {
   "cell_type": "code",
   "execution_count": 43,
   "metadata": {},
   "outputs": [],
   "source": [
    "dataset_embeddings['Protein-Protein Interaction Dataset (The Krogan Lab)'] = batch_embeddings[0].numpy()\n",
    "dataset_embeddings['Genetic Perturbations Dataset (Mali Lab)'] = batch_embeddings[1].numpy()\n",
    "dataset_embeddings['Protein Imaging Dataset (Lundberg Lab)'] = batch_embeddings[2].numpy()"
   ]
  },
  {
   "cell_type": "code",
   "execution_count": 44,
   "metadata": {},
   "outputs": [],
   "source": [
    "index_to_dataset = {}\n",
    "current_index = 123000000000\n",
    "for dataset in dataset_embeddings.keys():\n",
    "    index_to_dataset[current_index] = dataset\n",
    "    current_index += 1"
   ]
  },
  {
   "cell_type": "code",
   "execution_count": 45,
   "metadata": {},
   "outputs": [],
   "source": [
    "dataset_to_index = {dataset: index for index, dataset in index_to_dataset.items()}"
   ]
  },
  {
   "cell_type": "code",
   "execution_count": 48,
   "metadata": {},
   "outputs": [],
   "source": [
    "# Save the dataset embeddings dataset_embeddings\n",
    "import pickle\n",
    "pickle.dump(dataset_embeddings, open('dataset_embeddings.pkl', 'wb'))"
   ]
  },
  {
   "cell_type": "code",
   "execution_count": 50,
   "metadata": {},
   "outputs": [],
   "source": [
    "pickle.dump(index_to_dataset, open('index_to_dataset.pkl', 'wb'))"
   ]
  },
  {
   "cell_type": "code",
   "execution_count": 1,
   "metadata": {},
   "outputs": [],
   "source": [
    "import pickle\n",
    "dataset_embeddings = pickle.load(open('dataset_embeddings.pkl', 'rb'))\n",
    "index_to_dataset = pickle.load(open('index_to_dataset.pkl', 'rb'))"
   ]
  },
  {
   "cell_type": "code",
   "execution_count": 2,
   "metadata": {},
   "outputs": [],
   "source": [
    "import pandas as pd\n",
    "authors = pd.read_csv('/data/jx4237data/projects/web_page/talentKnowledgeGraph/work/data/processed_authors_more_than_single_recent_pub.csv')"
   ]
  },
  {
   "cell_type": "code",
   "execution_count": 5,
   "metadata": {},
   "outputs": [
    {
     "data": {
      "text/html": [
       "<div>\n",
       "<style scoped>\n",
       "    .dataframe tbody tr th:only-of-type {\n",
       "        vertical-align: middle;\n",
       "    }\n",
       "\n",
       "    .dataframe tbody tr th {\n",
       "        vertical-align: top;\n",
       "    }\n",
       "\n",
       "    .dataframe thead th {\n",
       "        text-align: right;\n",
       "    }\n",
       "</style>\n",
       "<table border=\"1\" class=\"dataframe\">\n",
       "  <thead>\n",
       "    <tr style=\"text-align: right;\">\n",
       "      <th></th>\n",
       "      <th>PMID</th>\n",
       "      <th>Dataset_Mention</th>\n",
       "      <th>Source</th>\n",
       "      <th>dataset</th>\n",
       "    </tr>\n",
       "  </thead>\n",
       "  <tbody>\n",
       "    <tr>\n",
       "      <th>0</th>\n",
       "      <td>27985</td>\n",
       "      <td>MSDD</td>\n",
       "      <td>NAR</td>\n",
       "      <td>MSDD</td>\n",
       "    </tr>\n",
       "    <tr>\n",
       "      <th>1</th>\n",
       "      <td>41450</td>\n",
       "      <td>MSDD</td>\n",
       "      <td>NAR</td>\n",
       "      <td>MSDD</td>\n",
       "    </tr>\n",
       "    <tr>\n",
       "      <th>2</th>\n",
       "      <td>153152</td>\n",
       "      <td>Nred</td>\n",
       "      <td>NAR</td>\n",
       "      <td>NRED</td>\n",
       "    </tr>\n",
       "    <tr>\n",
       "      <th>3</th>\n",
       "      <td>699045</td>\n",
       "      <td>enzyme nomenclature</td>\n",
       "      <td>NAR</td>\n",
       "      <td>Enzyme Nomenclature</td>\n",
       "    </tr>\n",
       "    <tr>\n",
       "      <th>4</th>\n",
       "      <td>812599</td>\n",
       "      <td>Sisyphus</td>\n",
       "      <td>NAR</td>\n",
       "      <td>SISYPHUS</td>\n",
       "    </tr>\n",
       "    <tr>\n",
       "      <th>...</th>\n",
       "      <td>...</td>\n",
       "      <td>...</td>\n",
       "      <td>...</td>\n",
       "      <td>...</td>\n",
       "    </tr>\n",
       "    <tr>\n",
       "      <th>52576</th>\n",
       "      <td>38093336</td>\n",
       "      <td>PubMed</td>\n",
       "      <td>NAR</td>\n",
       "      <td>PubMed</td>\n",
       "    </tr>\n",
       "    <tr>\n",
       "      <th>52577</th>\n",
       "      <td>38093369</td>\n",
       "      <td>PubMed</td>\n",
       "      <td>NAR</td>\n",
       "      <td>PubMed</td>\n",
       "    </tr>\n",
       "    <tr>\n",
       "      <th>52578</th>\n",
       "      <td>38095056</td>\n",
       "      <td>ClinicalTrials.gov</td>\n",
       "      <td>NIH</td>\n",
       "      <td>ClinicalTrials.gov</td>\n",
       "    </tr>\n",
       "    <tr>\n",
       "      <th>52579</th>\n",
       "      <td>38095903</td>\n",
       "      <td>ClinicalTrials.gov</td>\n",
       "      <td>NIH</td>\n",
       "      <td>ClinicalTrials.gov</td>\n",
       "    </tr>\n",
       "    <tr>\n",
       "      <th>52580</th>\n",
       "      <td>38096190</td>\n",
       "      <td>ClinicalTrials.gov</td>\n",
       "      <td>NIH</td>\n",
       "      <td>ClinicalTrials.gov</td>\n",
       "    </tr>\n",
       "  </tbody>\n",
       "</table>\n",
       "<p>52581 rows × 4 columns</p>\n",
       "</div>"
      ],
      "text/plain": [
       "           PMID      Dataset_Mention Source              dataset\n",
       "0         27985                 MSDD    NAR                 MSDD\n",
       "1         41450                 MSDD    NAR                 MSDD\n",
       "2        153152                 Nred    NAR                 NRED\n",
       "3        699045  enzyme nomenclature    NAR  Enzyme Nomenclature\n",
       "4        812599             Sisyphus    NAR             SISYPHUS\n",
       "...         ...                  ...    ...                  ...\n",
       "52576  38093336               PubMed    NAR               PubMed\n",
       "52577  38093369               PubMed    NAR               PubMed\n",
       "52578  38095056   ClinicalTrials.gov    NIH   ClinicalTrials.gov\n",
       "52579  38095903   ClinicalTrials.gov    NIH   ClinicalTrials.gov\n",
       "52580  38096190   ClinicalTrials.gov    NIH   ClinicalTrials.gov\n",
       "\n",
       "[52581 rows x 4 columns]"
      ]
     },
     "execution_count": 5,
     "metadata": {},
     "output_type": "execute_result"
    }
   ],
   "source": [
    "pmid_dataset"
   ]
  },
  {
   "cell_type": "code",
   "execution_count": 6,
   "metadata": {},
   "outputs": [],
   "source": [
    "dataset_to_index = {dataset: index for index, dataset in index_to_dataset.items()}"
   ]
  },
  {
   "cell_type": "code",
   "execution_count": null,
   "metadata": {},
   "outputs": [],
   "source": [
    "pmid_dataset['dataset']"
   ]
  },
  {
   "cell_type": "code",
   "execution_count": 8,
   "metadata": {},
   "outputs": [],
   "source": [
    "authors['is_author'] = 1"
   ]
  },
  {
   "cell_type": "code",
   "execution_count": 9,
   "metadata": {},
   "outputs": [
    {
     "data": {
      "text/html": [
       "<div>\n",
       "<style scoped>\n",
       "    .dataframe tbody tr th:only-of-type {\n",
       "        vertical-align: middle;\n",
       "    }\n",
       "\n",
       "    .dataframe tbody tr th {\n",
       "        vertical-align: top;\n",
       "    }\n",
       "\n",
       "    .dataframe thead th {\n",
       "        text-align: right;\n",
       "    }\n",
       "</style>\n",
       "<table border=\"1\" class=\"dataframe\">\n",
       "  <thead>\n",
       "    <tr style=\"text-align: right;\">\n",
       "      <th></th>\n",
       "      <th>id</th>\n",
       "      <th>FullName</th>\n",
       "      <th>BeginYear</th>\n",
       "      <th>PaperNum</th>\n",
       "      <th>CM4AI</th>\n",
       "      <th>RecentYear</th>\n",
       "      <th>Index</th>\n",
       "      <th>is_author</th>\n",
       "    </tr>\n",
       "  </thead>\n",
       "  <tbody>\n",
       "    <tr>\n",
       "      <th>0</th>\n",
       "      <td>225</td>\n",
       "      <td>Baba Inusa</td>\n",
       "      <td>2005</td>\n",
       "      <td>102</td>\n",
       "      <td>NaN</td>\n",
       "      <td>2024</td>\n",
       "      <td>0</td>\n",
       "      <td>1</td>\n",
       "    </tr>\n",
       "    <tr>\n",
       "      <th>1</th>\n",
       "      <td>878</td>\n",
       "      <td>Rutger Schutten</td>\n",
       "      <td>2017</td>\n",
       "      <td>5</td>\n",
       "      <td>NaN</td>\n",
       "      <td>2022</td>\n",
       "      <td>1</td>\n",
       "      <td>1</td>\n",
       "    </tr>\n",
       "    <tr>\n",
       "      <th>2</th>\n",
       "      <td>1098</td>\n",
       "      <td>Vardit Ravitsky (CM4AI)</td>\n",
       "      <td>2002</td>\n",
       "      <td>192</td>\n",
       "      <td>1.0</td>\n",
       "      <td>2023</td>\n",
       "      <td>2</td>\n",
       "      <td>1</td>\n",
       "    </tr>\n",
       "    <tr>\n",
       "      <th>3</th>\n",
       "      <td>1352</td>\n",
       "      <td>Ursula Grohmann</td>\n",
       "      <td>1988</td>\n",
       "      <td>158</td>\n",
       "      <td>NaN</td>\n",
       "      <td>2023</td>\n",
       "      <td>3</td>\n",
       "      <td>1</td>\n",
       "    </tr>\n",
       "    <tr>\n",
       "      <th>4</th>\n",
       "      <td>1592</td>\n",
       "      <td>Sharon R Lewin</td>\n",
       "      <td>1993</td>\n",
       "      <td>373</td>\n",
       "      <td>NaN</td>\n",
       "      <td>2023</td>\n",
       "      <td>4</td>\n",
       "      <td>1</td>\n",
       "    </tr>\n",
       "    <tr>\n",
       "      <th>...</th>\n",
       "      <td>...</td>\n",
       "      <td>...</td>\n",
       "      <td>...</td>\n",
       "      <td>...</td>\n",
       "      <td>...</td>\n",
       "      <td>...</td>\n",
       "      <td>...</td>\n",
       "      <td>...</td>\n",
       "    </tr>\n",
       "    <tr>\n",
       "      <th>28395</th>\n",
       "      <td>843771129831</td>\n",
       "      <td>Jillian Mohan (CM4AI)</td>\n",
       "      <td>2012</td>\n",
       "      <td>37</td>\n",
       "      <td>1.0</td>\n",
       "      <td>2024</td>\n",
       "      <td>28395</td>\n",
       "      <td>1</td>\n",
       "    </tr>\n",
       "    <tr>\n",
       "      <th>28396</th>\n",
       "      <td>83284832748327</td>\n",
       "      <td>Jiawei Xu (CM4AI)</td>\n",
       "      <td>2021</td>\n",
       "      <td>5</td>\n",
       "      <td>1.0</td>\n",
       "      <td>2024</td>\n",
       "      <td>28396</td>\n",
       "      <td>1</td>\n",
       "    </tr>\n",
       "    <tr>\n",
       "      <th>28397</th>\n",
       "      <td>873811147837</td>\n",
       "      <td>Swathi Thaker (CM4AI)</td>\n",
       "      <td>2005</td>\n",
       "      <td>23</td>\n",
       "      <td>1.0</td>\n",
       "      <td>2024</td>\n",
       "      <td>28397</td>\n",
       "      <td>1</td>\n",
       "    </tr>\n",
       "    <tr>\n",
       "      <th>28398</th>\n",
       "      <td>23553111988</td>\n",
       "      <td>Xiaoyu Zhao (CM4AI)</td>\n",
       "      <td>2010</td>\n",
       "      <td>11</td>\n",
       "      <td>1.0</td>\n",
       "      <td>2024</td>\n",
       "      <td>28398</td>\n",
       "      <td>1</td>\n",
       "    </tr>\n",
       "    <tr>\n",
       "      <th>28399</th>\n",
       "      <td>89432444320001</td>\n",
       "      <td>Zhandos Sembay (CM4AI)</td>\n",
       "      <td>2021</td>\n",
       "      <td>4</td>\n",
       "      <td>1.0</td>\n",
       "      <td>2024</td>\n",
       "      <td>28399</td>\n",
       "      <td>1</td>\n",
       "    </tr>\n",
       "  </tbody>\n",
       "</table>\n",
       "<p>28400 rows × 8 columns</p>\n",
       "</div>"
      ],
      "text/plain": [
       "                   id                 FullName  BeginYear  PaperNum  CM4AI  \\\n",
       "0                 225               Baba Inusa       2005       102    NaN   \n",
       "1                 878          Rutger Schutten       2017         5    NaN   \n",
       "2                1098  Vardit Ravitsky (CM4AI)       2002       192    1.0   \n",
       "3                1352          Ursula Grohmann       1988       158    NaN   \n",
       "4                1592           Sharon R Lewin       1993       373    NaN   \n",
       "...               ...                      ...        ...       ...    ...   \n",
       "28395    843771129831    Jillian Mohan (CM4AI)       2012        37    1.0   \n",
       "28396  83284832748327        Jiawei Xu (CM4AI)       2021         5    1.0   \n",
       "28397    873811147837    Swathi Thaker (CM4AI)       2005        23    1.0   \n",
       "28398     23553111988      Xiaoyu Zhao (CM4AI)       2010        11    1.0   \n",
       "28399  89432444320001   Zhandos Sembay (CM4AI)       2021         4    1.0   \n",
       "\n",
       "       RecentYear  Index  is_author  \n",
       "0            2024      0          1  \n",
       "1            2022      1          1  \n",
       "2            2023      2          1  \n",
       "3            2023      3          1  \n",
       "4            2023      4          1  \n",
       "...           ...    ...        ...  \n",
       "28395        2024  28395          1  \n",
       "28396        2024  28396          1  \n",
       "28397        2024  28397          1  \n",
       "28398        2024  28398          1  \n",
       "28399        2024  28399          1  \n",
       "\n",
       "[28400 rows x 8 columns]"
      ]
     },
     "execution_count": 9,
     "metadata": {},
     "output_type": "execute_result"
    }
   ],
   "source": [
    "authors"
   ]
  },
  {
   "cell_type": "code",
   "execution_count": 17,
   "metadata": {},
   "outputs": [],
   "source": [
    "datasets_data = {\n",
    "    'id': list(index_to_dataset.keys()),\n",
    "    'FullName': list(index_to_dataset.values()),\n",
    "    'BeginYear': [2020] * len(index_to_dataset),\n",
    "    'PaperNum': [100] * len(index_to_dataset),\n",
    "    'CM4AI': [0] * len(index_to_dataset),\n",
    "    'RecentYear': [0] * len(index_to_dataset),\n",
    "    'Index': [0] * len(index_to_dataset),\n",
    "    'is_author': [0] * len(index_to_dataset)\n",
    "}\n",
    "\n",
    "df_datasets = pd.DataFrame(datasets_data)\n",
    "\n",
    "# Append the new DataFrame to the original DataFrame\n",
    "df_datasets = pd.concat([authors, df_datasets], ignore_index=True)"
   ]
  },
  {
   "cell_type": "code",
   "execution_count": 18,
   "metadata": {},
   "outputs": [],
   "source": [
    "df_datasets['Index'] =df_datasets.index"
   ]
  },
  {
   "cell_type": "code",
   "execution_count": 19,
   "metadata": {},
   "outputs": [
    {
     "data": {
      "text/html": [
       "<div>\n",
       "<style scoped>\n",
       "    .dataframe tbody tr th:only-of-type {\n",
       "        vertical-align: middle;\n",
       "    }\n",
       "\n",
       "    .dataframe tbody tr th {\n",
       "        vertical-align: top;\n",
       "    }\n",
       "\n",
       "    .dataframe thead th {\n",
       "        text-align: right;\n",
       "    }\n",
       "</style>\n",
       "<table border=\"1\" class=\"dataframe\">\n",
       "  <thead>\n",
       "    <tr style=\"text-align: right;\">\n",
       "      <th></th>\n",
       "      <th>id</th>\n",
       "      <th>FullName</th>\n",
       "      <th>BeginYear</th>\n",
       "      <th>PaperNum</th>\n",
       "      <th>CM4AI</th>\n",
       "      <th>RecentYear</th>\n",
       "      <th>Index</th>\n",
       "      <th>is_author</th>\n",
       "    </tr>\n",
       "  </thead>\n",
       "  <tbody>\n",
       "    <tr>\n",
       "      <th>0</th>\n",
       "      <td>225</td>\n",
       "      <td>Baba Inusa</td>\n",
       "      <td>2005</td>\n",
       "      <td>102</td>\n",
       "      <td>NaN</td>\n",
       "      <td>2024</td>\n",
       "      <td>0</td>\n",
       "      <td>1</td>\n",
       "    </tr>\n",
       "    <tr>\n",
       "      <th>1</th>\n",
       "      <td>878</td>\n",
       "      <td>Rutger Schutten</td>\n",
       "      <td>2017</td>\n",
       "      <td>5</td>\n",
       "      <td>NaN</td>\n",
       "      <td>2022</td>\n",
       "      <td>1</td>\n",
       "      <td>1</td>\n",
       "    </tr>\n",
       "    <tr>\n",
       "      <th>2</th>\n",
       "      <td>1098</td>\n",
       "      <td>Vardit Ravitsky (CM4AI)</td>\n",
       "      <td>2002</td>\n",
       "      <td>192</td>\n",
       "      <td>1.0</td>\n",
       "      <td>2023</td>\n",
       "      <td>2</td>\n",
       "      <td>1</td>\n",
       "    </tr>\n",
       "    <tr>\n",
       "      <th>3</th>\n",
       "      <td>1352</td>\n",
       "      <td>Ursula Grohmann</td>\n",
       "      <td>1988</td>\n",
       "      <td>158</td>\n",
       "      <td>NaN</td>\n",
       "      <td>2023</td>\n",
       "      <td>3</td>\n",
       "      <td>1</td>\n",
       "    </tr>\n",
       "    <tr>\n",
       "      <th>4</th>\n",
       "      <td>1592</td>\n",
       "      <td>Sharon R Lewin</td>\n",
       "      <td>1993</td>\n",
       "      <td>373</td>\n",
       "      <td>NaN</td>\n",
       "      <td>2023</td>\n",
       "      <td>4</td>\n",
       "      <td>1</td>\n",
       "    </tr>\n",
       "    <tr>\n",
       "      <th>...</th>\n",
       "      <td>...</td>\n",
       "      <td>...</td>\n",
       "      <td>...</td>\n",
       "      <td>...</td>\n",
       "      <td>...</td>\n",
       "      <td>...</td>\n",
       "      <td>...</td>\n",
       "      <td>...</td>\n",
       "    </tr>\n",
       "    <tr>\n",
       "      <th>29536</th>\n",
       "      <td>123000001136</td>\n",
       "      <td>wFleaBase</td>\n",
       "      <td>2020</td>\n",
       "      <td>100</td>\n",
       "      <td>0.0</td>\n",
       "      <td>0</td>\n",
       "      <td>29536</td>\n",
       "      <td>0</td>\n",
       "    </tr>\n",
       "    <tr>\n",
       "      <th>29537</th>\n",
       "      <td>123000001137</td>\n",
       "      <td>yMGV - Yeast microarray global viewer</td>\n",
       "      <td>2020</td>\n",
       "      <td>100</td>\n",
       "      <td>0.0</td>\n",
       "      <td>0</td>\n",
       "      <td>29537</td>\n",
       "      <td>0</td>\n",
       "    </tr>\n",
       "    <tr>\n",
       "      <th>29538</th>\n",
       "      <td>123000001138</td>\n",
       "      <td>Protein-Protein Interaction Dataset (The Kroga...</td>\n",
       "      <td>2020</td>\n",
       "      <td>100</td>\n",
       "      <td>0.0</td>\n",
       "      <td>0</td>\n",
       "      <td>29538</td>\n",
       "      <td>0</td>\n",
       "    </tr>\n",
       "    <tr>\n",
       "      <th>29539</th>\n",
       "      <td>123000001139</td>\n",
       "      <td>Genetic Perturbations Dataset (Mali Lab)</td>\n",
       "      <td>2020</td>\n",
       "      <td>100</td>\n",
       "      <td>0.0</td>\n",
       "      <td>0</td>\n",
       "      <td>29539</td>\n",
       "      <td>0</td>\n",
       "    </tr>\n",
       "    <tr>\n",
       "      <th>29540</th>\n",
       "      <td>123000001140</td>\n",
       "      <td>Protein Imaging Dataset (Lundberg Lab)</td>\n",
       "      <td>2020</td>\n",
       "      <td>100</td>\n",
       "      <td>0.0</td>\n",
       "      <td>0</td>\n",
       "      <td>29540</td>\n",
       "      <td>0</td>\n",
       "    </tr>\n",
       "  </tbody>\n",
       "</table>\n",
       "<p>29541 rows × 8 columns</p>\n",
       "</div>"
      ],
      "text/plain": [
       "                 id                                           FullName  \\\n",
       "0               225                                         Baba Inusa   \n",
       "1               878                                    Rutger Schutten   \n",
       "2              1098                            Vardit Ravitsky (CM4AI)   \n",
       "3              1352                                    Ursula Grohmann   \n",
       "4              1592                                     Sharon R Lewin   \n",
       "...             ...                                                ...   \n",
       "29536  123000001136                                          wFleaBase   \n",
       "29537  123000001137              yMGV - Yeast microarray global viewer   \n",
       "29538  123000001138  Protein-Protein Interaction Dataset (The Kroga...   \n",
       "29539  123000001139           Genetic Perturbations Dataset (Mali Lab)   \n",
       "29540  123000001140             Protein Imaging Dataset (Lundberg Lab)   \n",
       "\n",
       "       BeginYear  PaperNum  CM4AI  RecentYear  Index  is_author  \n",
       "0           2005       102    NaN        2024      0          1  \n",
       "1           2017         5    NaN        2022      1          1  \n",
       "2           2002       192    1.0        2023      2          1  \n",
       "3           1988       158    NaN        2023      3          1  \n",
       "4           1993       373    NaN        2023      4          1  \n",
       "...          ...       ...    ...         ...    ...        ...  \n",
       "29536       2020       100    0.0           0  29536          0  \n",
       "29537       2020       100    0.0           0  29537          0  \n",
       "29538       2020       100    0.0           0  29538          0  \n",
       "29539       2020       100    0.0           0  29539          0  \n",
       "29540       2020       100    0.0           0  29540          0  \n",
       "\n",
       "[29541 rows x 8 columns]"
      ]
     },
     "execution_count": 19,
     "metadata": {},
     "output_type": "execute_result"
    }
   ],
   "source": [
    "df_datasets"
   ]
  },
  {
   "cell_type": "code",
   "execution_count": 20,
   "metadata": {},
   "outputs": [],
   "source": [
    "df_datasets.to_csv('/data/jx4237data/projects/web_page/cm4ai_tkg/work/data/author_dataset.csv', index=False)"
   ]
  },
  {
   "cell_type": "markdown",
   "metadata": {},
   "source": [
    "# dataset collaborators"
   ]
  },
  {
   "cell_type": "code",
   "execution_count": 21,
   "metadata": {},
   "outputs": [],
   "source": [
    "import pandas as pd\n",
    "paper_author_2m = pd.read_csv('/data/jx4237data/TKG/TKG_JCDL/Bridge2AI_2m/paper_author.csv.gz')\n"
   ]
  },
  {
   "cell_type": "code",
   "execution_count": 22,
   "metadata": {},
   "outputs": [
    {
     "name": "stdout",
     "output_type": "stream",
     "text": [
      "<class 'pandas.core.frame.DataFrame'>\n",
      "RangeIndex: 17311660 entries, 0 to 17311659\n",
      "Data columns (total 5 columns):\n",
      " #   Column     Dtype\n",
      "---  ------     -----\n",
      " 0   PMID       int64\n",
      " 1   Au_Order   int64\n",
      " 2   AID        int64\n",
      " 3   AuthorNum  int64\n",
      " 4   PubYear    int64\n",
      "dtypes: int64(5)\n",
      "memory usage: 660.4 MB\n"
     ]
    }
   ],
   "source": [
    "paper_author_2m.info()"
   ]
  },
  {
   "cell_type": "code",
   "execution_count": 23,
   "metadata": {},
   "outputs": [],
   "source": [
    "import pandas as pd\n",
    "pmid_dataset = pd.read_csv('/data/jx4237data/TKG/TKG_JCDL/Bridge2AI_2m/pmid_dataset.csv.gz')"
   ]
  },
  {
   "cell_type": "code",
   "execution_count": 24,
   "metadata": {},
   "outputs": [],
   "source": [
    "pmid_dataset['dataset_id'] = pmid_dataset['dataset'].apply(lambda x: dataset_to_index.get(x))"
   ]
  },
  {
   "cell_type": "code",
   "execution_count": 34,
   "metadata": {},
   "outputs": [],
   "source": [
    "all_author_pd = pd.read_csv('/data/jx4237data/projects/web_page/cm4ai_tkg/work/data/author_dataset_filtered.csv')\n",
    "aid_set = all_author_pd['id'].to_list()"
   ]
  },
  {
   "cell_type": "code",
   "execution_count": 35,
   "metadata": {},
   "outputs": [],
   "source": [
    "aid_set = all_author_pd['id'].to_list()"
   ]
  },
  {
   "cell_type": "code",
   "execution_count": 36,
   "metadata": {},
   "outputs": [
    {
     "data": {
      "text/plain": [
       "29531"
      ]
     },
     "execution_count": 36,
     "metadata": {},
     "output_type": "execute_result"
    }
   ],
   "source": [
    "len(aid_set)"
   ]
  },
  {
   "cell_type": "code",
   "execution_count": 46,
   "metadata": {},
   "outputs": [],
   "source": [
    "cm4ai_authors = all_author_pd[(all_author_pd['CM4AI'] == 1) & (all_author_pd['is_author'] == 1)]['id'].to_list()"
   ]
  },
  {
   "cell_type": "code",
   "execution_count": 38,
   "metadata": {},
   "outputs": [],
   "source": [
    "paper_author_2m = paper_author_2m[paper_author_2m['AID'].isin(aid_set)]"
   ]
  },
  {
   "cell_type": "code",
   "execution_count": 39,
   "metadata": {},
   "outputs": [],
   "source": [
    "merged_df = pd.merge(paper_author_2m, pmid_dataset, on='PMID')\n",
    "\n",
    "# Group by dataset_id and collect unique AIDs\n",
    "dataset_id2users = merged_df.groupby('dataset_id')['AID'].apply(lambda x: x.unique().tolist()).to_dict()"
   ]
  },
  {
   "cell_type": "code",
   "execution_count": 51,
   "metadata": {},
   "outputs": [],
   "source": [
    "for id in set(index_to_dataset.keys()) - set(dataset_id2users.keys()):\n",
    "    dataset_id2users[id] = cm4ai_authors"
   ]
  },
  {
   "cell_type": "code",
   "execution_count": 55,
   "metadata": {},
   "outputs": [],
   "source": [
    "import pandas as pd\n",
    "import pickle\n",
    "import gzip\n",
    "\n",
    "with gzip.open(\"author_collaborators.pkl.gz\", \"rb\") as f:\n",
    "    author_collab = pickle.load(f)"
   ]
  },
  {
   "cell_type": "code",
   "execution_count": 57,
   "metadata": {},
   "outputs": [],
   "source": [
    "author_collab = { **author_collab, **dataset_id2users }"
   ]
  },
  {
   "cell_type": "code",
   "execution_count": 58,
   "metadata": {},
   "outputs": [],
   "source": [
    "pickle.dump(author_collab, open('author_dataset_collaborators.pkl', 'wb'))"
   ]
  },
  {
   "cell_type": "code",
   "execution_count": 60,
   "metadata": {},
   "outputs": [],
   "source": [
    "authors = pd.read_csv('/data/jx4237data/projects/web_page/cm4ai_tkg/work/data/author_dataset_filtered.csv')\n",
    "author_set = set(authors['id'].to_list())\n",
    "def clean_author_collab(author_collab, author_set):\n",
    "    # Remove keys not in author_set\n",
    "    keys_to_remove = [key for key in author_collab if key not in author_set]\n",
    "    for key in keys_to_remove:\n",
    "        del author_collab[key]\n",
    "\n",
    "    # Remove values not in author_set\n",
    "    for key in author_collab:\n",
    "        author_collab[key] = [value for value in author_collab[key] if value in author_set]\n",
    "\n",
    "# Clean the dictionary\n",
    "clean_author_collab(author_collab, author_set)"
   ]
  },
  {
   "cell_type": "code",
   "execution_count": 63,
   "metadata": {},
   "outputs": [],
   "source": [
    "import json\n",
    "file_name = 'author_collab_dataset.json'\n",
    "\n",
    "# Open the file in write mode and use json.dump to write the dictionary to the file\n",
    "with open(file_name, 'w') as json_file:\n",
    "    json.dump(author_collab, json_file, indent=4)"
   ]
  },
  {
   "cell_type": "code",
   "execution_count": 65,
   "metadata": {},
   "outputs": [],
   "source": [
    "dataset_index_embeddings = {}\n",
    "for index, dataset in index_to_dataset.items():\n",
    "    dataset_index_embeddings[index] = dataset_embeddings[dataset]"
   ]
  },
  {
   "cell_type": "code",
   "execution_count": 67,
   "metadata": {},
   "outputs": [],
   "source": [
    "with gzip.open(\"author_embeddings.pkl.gz\", \"rb\") as f:\n",
    "    author_ebd = pickle.load(f)\n",
    "author_ebd_filtered = {key: value for key, value in author_ebd.items() if key in author_set}\n",
    "\n",
    "import numpy as np\n",
    "\n",
    "def get_top_n_similar_authors(author_ebd_filtered, dataset_id, N=5):\n",
    "    # Check if the author_id exists in the dictionary\n",
    "    if dataset_id not in dataset_index_embeddings:\n",
    "        raise ValueError(f\"Author ID {dataset_id} not found in the author embeddings.\")\n",
    "    \n",
    "    # Get the embedding of the target author\n",
    "    target_embedding = dataset_index_embeddings[dataset_id]\n",
    "    \n",
    "    # Initialize a list to store similarities\n",
    "    similarities = []\n",
    "    \n",
    "    # Compute cosine similarity between the target author and all other authors\n",
    "    for other_id, other_embedding in author_ebd_filtered.items():\n",
    "        if other_id != dataset_id and  other_id not in author_collab[dataset_id]:  # Exclude the target author from the comparison\n",
    "            cosine_similarity = np.dot(target_embedding, other_embedding) / (np.linalg.norm(target_embedding) * np.linalg.norm(other_embedding))\n",
    "            similarities.append((other_id, cosine_similarity))\n",
    "    \n",
    "    # Sort the list by similarity in descending order and get the top N\n",
    "    similarities.sort(key=lambda x: x[1], reverse=True)\n",
    "    top_n_similar_authors = [author_id for author_id, _ in similarities[:N]]\n",
    "    \n",
    "    return top_n_similar_authors\n"
   ]
  },
  {
   "cell_type": "code",
   "execution_count": 68,
   "metadata": {},
   "outputs": [
    {
     "name": "stderr",
     "output_type": "stream",
     "text": [
      "100%|██████████| 1141/1141 [04:26<00:00,  4.29it/s]\n"
     ]
    }
   ],
   "source": [
    "import csv\n",
    "import gzip\n",
    "from tqdm import tqdm\n",
    "\n",
    "import numpy as np\n",
    "\n",
    "# Open a gzip-compressed file for writing\n",
    "with gzip.open('dataset_author_recommendations.csv.gz', 'wt', newline='') as gzfile:\n",
    "    writer = csv.writer(gzfile)\n",
    "    \n",
    "    # Write the header\n",
    "    writer.writerow(['DatasetID', 'Recommended AID'])\n",
    "    \n",
    "    # Iterate over each author ID in author_collab\n",
    "    for datasetid in tqdm(dataset_index_embeddings.keys()):\n",
    "        # Get the top 30 recommended authors for the current author_id\n",
    "        recommended_authors = get_top_n_similar_authors(author_ebd_filtered, datasetid, N=150)\n",
    "        \n",
    "        # Write each pair (author_id, recommended_id) to the CSV\n",
    "        for recommended_id in recommended_authors:\n",
    "            writer.writerow([datasetid, recommended_id])"
   ]
  },
  {
   "cell_type": "code",
   "execution_count": 69,
   "metadata": {},
   "outputs": [],
   "source": [
    "df = pd.read_csv('dataset_author_recommendations.csv.gz', compression='gzip')\n",
    "df.rename(columns={'Recommended AID': 'recommended_author_id'}, inplace=True)\n",
    "df.to_csv('dataset_author_recommendations.csv.gz', index=False, compression='gzip')"
   ]
  },
  {
   "cell_type": "code",
   "execution_count": 70,
   "metadata": {},
   "outputs": [
    {
     "data": {
      "text/html": [
       "<div>\n",
       "<style scoped>\n",
       "    .dataframe tbody tr th:only-of-type {\n",
       "        vertical-align: middle;\n",
       "    }\n",
       "\n",
       "    .dataframe tbody tr th {\n",
       "        vertical-align: top;\n",
       "    }\n",
       "\n",
       "    .dataframe thead th {\n",
       "        text-align: right;\n",
       "    }\n",
       "</style>\n",
       "<table border=\"1\" class=\"dataframe\">\n",
       "  <thead>\n",
       "    <tr style=\"text-align: right;\">\n",
       "      <th></th>\n",
       "      <th>DatasetID</th>\n",
       "      <th>recommended_author_id</th>\n",
       "    </tr>\n",
       "  </thead>\n",
       "  <tbody>\n",
       "    <tr>\n",
       "      <th>0</th>\n",
       "      <td>123000000000</td>\n",
       "      <td>9846538</td>\n",
       "    </tr>\n",
       "    <tr>\n",
       "      <th>1</th>\n",
       "      <td>123000000000</td>\n",
       "      <td>9383306</td>\n",
       "    </tr>\n",
       "    <tr>\n",
       "      <th>2</th>\n",
       "      <td>123000000000</td>\n",
       "      <td>9808746</td>\n",
       "    </tr>\n",
       "    <tr>\n",
       "      <th>3</th>\n",
       "      <td>123000000000</td>\n",
       "      <td>3902484</td>\n",
       "    </tr>\n",
       "    <tr>\n",
       "      <th>4</th>\n",
       "      <td>123000000000</td>\n",
       "      <td>1195250</td>\n",
       "    </tr>\n",
       "    <tr>\n",
       "      <th>...</th>\n",
       "      <td>...</td>\n",
       "      <td>...</td>\n",
       "    </tr>\n",
       "    <tr>\n",
       "      <th>171145</th>\n",
       "      <td>123000001140</td>\n",
       "      <td>11929809</td>\n",
       "    </tr>\n",
       "    <tr>\n",
       "      <th>171146</th>\n",
       "      <td>123000001140</td>\n",
       "      <td>1275250</td>\n",
       "    </tr>\n",
       "    <tr>\n",
       "      <th>171147</th>\n",
       "      <td>123000001140</td>\n",
       "      <td>3342808</td>\n",
       "    </tr>\n",
       "    <tr>\n",
       "      <th>171148</th>\n",
       "      <td>123000001140</td>\n",
       "      <td>5371637</td>\n",
       "    </tr>\n",
       "    <tr>\n",
       "      <th>171149</th>\n",
       "      <td>123000001140</td>\n",
       "      <td>12399292</td>\n",
       "    </tr>\n",
       "  </tbody>\n",
       "</table>\n",
       "<p>171150 rows × 2 columns</p>\n",
       "</div>"
      ],
      "text/plain": [
       "           DatasetID  recommended_author_id\n",
       "0       123000000000                9846538\n",
       "1       123000000000                9383306\n",
       "2       123000000000                9808746\n",
       "3       123000000000                3902484\n",
       "4       123000000000                1195250\n",
       "...              ...                    ...\n",
       "171145  123000001140               11929809\n",
       "171146  123000001140                1275250\n",
       "171147  123000001140                3342808\n",
       "171148  123000001140                5371637\n",
       "171149  123000001140               12399292\n",
       "\n",
       "[171150 rows x 2 columns]"
      ]
     },
     "execution_count": 70,
     "metadata": {},
     "output_type": "execute_result"
    }
   ],
   "source": [
    "df"
   ]
  }
 ],
 "metadata": {
  "kernelspec": {
   "display_name": "faisis_1.7",
   "language": "python",
   "name": "python3"
  },
  "language_info": {
   "codemirror_mode": {
    "name": "ipython",
    "version": 3
   },
   "file_extension": ".py",
   "mimetype": "text/x-python",
   "name": "python",
   "nbconvert_exporter": "python",
   "pygments_lexer": "ipython3",
   "version": "3.8.19"
  }
 },
 "nbformat": 4,
 "nbformat_minor": 2
}
