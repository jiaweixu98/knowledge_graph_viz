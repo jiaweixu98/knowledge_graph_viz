{
 "cells": [
  {
   "cell_type": "code",
   "execution_count": 1,
   "metadata": {},
   "outputs": [],
   "source": [
    "import pandas as pd\n",
    "import pickle\n",
    "import gzip\n",
    "\n",
    "with gzip.open(\"author_collaborators.pkl.gz\", \"rb\") as f:\n",
    "    author_collab = pickle.load(f)"
   ]
  },
  {
   "cell_type": "code",
   "execution_count": 3,
   "metadata": {},
   "outputs": [],
   "source": [
    "with gzip.open(\"author_embeddings.pkl.gz\", \"rb\") as f:\n",
    "    author_ebd = pickle.load(f)"
   ]
  },
  {
   "cell_type": "code",
   "execution_count": 5,
   "metadata": {},
   "outputs": [],
   "source": [
    "paper_author_2m = pd.read_csv('/data/jx4237data/TKG/TKG_JCDL/Bridge2AI_2m/paper_author.csv.gz')"
   ]
  },
  {
   "cell_type": "code",
   "execution_count": 10,
   "metadata": {},
   "outputs": [],
   "source": [
    "aids_with_recent_pubs = set(paper_author_2m[paper_author_2m['PubYear'] > 2018]['AID'])"
   ]
  },
  {
   "cell_type": "code",
   "execution_count": 17,
   "metadata": {},
   "outputs": [],
   "source": [
    "import numpy as np\n",
    "\n",
    "def get_top_n_similar_authors(author_ebd, author_id, N=5):\n",
    "    # Check if the author_id exists in the dictionary\n",
    "    if author_id not in author_ebd:\n",
    "        raise ValueError(f\"Author ID {author_id} not found in the author embeddings.\")\n",
    "    \n",
    "    # Get the embedding of the target author\n",
    "    target_embedding = author_ebd[author_id]\n",
    "    \n",
    "    # Initialize a list to store similarities\n",
    "    similarities = []\n",
    "    \n",
    "    # Compute cosine similarity between the target author and all other authors\n",
    "    for other_id, other_embedding in author_ebd.items():\n",
    "        if other_id != author_id and other_id in aids_with_recent_pubs and other_id not in author_collab[author_id]:  # Exclude the target author from the comparison\n",
    "            cosine_similarity = np.dot(target_embedding, other_embedding) / (np.linalg.norm(target_embedding) * np.linalg.norm(other_embedding))\n",
    "            similarities.append((other_id, cosine_similarity))\n",
    "    \n",
    "    # Sort the list by similarity in descending order and get the top N\n",
    "    similarities.sort(key=lambda x: x[1], reverse=True)\n",
    "    top_n_similar_authors = [author_id for author_id, _ in similarities[:N]]\n",
    "    \n",
    "    return top_n_similar_authors\n"
   ]
  },
  {
   "cell_type": "code",
   "execution_count": null,
   "metadata": {},
   "outputs": [],
   "source": [
    "import csv\n",
    "import gzip\n",
    "from tqdm import tqdm\n",
    "\n",
    "import numpy as np\n",
    "\n",
    "def get_top_n_similar_authors(author_ebd, author_id, N=5):\n",
    "    # Check if the author_id exists in the dictionary\n",
    "    if author_id not in author_ebd:\n",
    "        raise ValueError(f\"Author ID {author_id} not found in the author embeddings.\")\n",
    "    \n",
    "    # Get the embedding of the target author\n",
    "    target_embedding = author_ebd[author_id]\n",
    "    \n",
    "    # Initialize a list to store similarities\n",
    "    similarities = []\n",
    "    \n",
    "    # Compute cosine similarity between the target author and all other authors\n",
    "    for other_id, other_embedding in author_ebd.items():\n",
    "        if other_id != author_id and other_id in aids_with_recent_pubs and other_id not in author_collab[author_id]:  # Exclude the target author from the comparison\n",
    "            cosine_similarity = np.dot(target_embedding, other_embedding) / (np.linalg.norm(target_embedding) * np.linalg.norm(other_embedding))\n",
    "            similarities.append((other_id, cosine_similarity))\n",
    "    \n",
    "    # Sort the list by similarity in descending order and get the top N\n",
    "    similarities.sort(key=lambda x: x[1], reverse=True)\n",
    "    top_n_similar_authors = [author_id for author_id, _ in similarities[:N]]\n",
    "    \n",
    "    return top_n_similar_authors\n",
    "\n",
    "# Open a gzip-compressed file for writing\n",
    "with gzip.open('author_recommendations.csv.gz', 'wt', newline='') as gzfile:\n",
    "    writer = csv.writer(gzfile)\n",
    "    \n",
    "    # Write the header\n",
    "    writer.writerow(['AID', 'Recommended AID'])\n",
    "    \n",
    "    # Iterate over each author ID in author_collab\n",
    "    for author_id in tqdm(author_collab.keys()):\n",
    "        # Get the top 30 recommended authors for the current author_id\n",
    "        recommended_authors = get_top_n_similar_authors(author_ebd, author_id, N=30)\n",
    "        \n",
    "        # Write each pair (author_id, recommended_id) to the CSV\n",
    "        for recommended_id in recommended_authors:\n",
    "            writer.writerow([author_id, recommended_id])"
   ]
  },
  {
   "cell_type": "code",
   "execution_count": 24,
   "metadata": {},
   "outputs": [],
   "source": [
    "df = pd.read_csv('author_recommendations.csv.gz', compression='gzip')\n",
    "df.rename(columns={'Recommended AID': 'recommended_author_id'}, inplace=True)\n",
    "df.to_csv('author_recommendations.csv.gz', index=False, compression='gzip')"
   ]
  }
 ],
 "metadata": {
  "kernelspec": {
   "display_name": "cm4ai",
   "language": "python",
   "name": "python3"
  },
  "language_info": {
   "codemirror_mode": {
    "name": "ipython",
    "version": 3
   },
   "file_extension": ".py",
   "mimetype": "text/x-python",
   "name": "python",
   "nbconvert_exporter": "python",
   "pygments_lexer": "ipython3",
   "version": "3.12.3"
  }
 },
 "nbformat": 4,
 "nbformat_minor": 2
}
