{
 "cells": [
  {
   "cell_type": "code",
   "execution_count": 1,
   "metadata": {},
   "outputs": [],
   "source": [
    "import pickle\n",
    "dataset_embeddings = pickle.load(open('dataset_embeddings.pkl', 'rb'))\n",
    "index_to_dataset = pickle.load(open('index_to_dataset.pkl', 'rb'))"
   ]
  },
  {
   "cell_type": "code",
   "execution_count": 2,
   "metadata": {},
   "outputs": [],
   "source": [
    "dataset_index_embeddings = {}\n",
    "for index, dataset in index_to_dataset.items():\n",
    "    dataset_index_embeddings[index] = dataset_embeddings[dataset]"
   ]
  },
  {
   "cell_type": "code",
   "execution_count": 3,
   "metadata": {},
   "outputs": [
    {
     "data": {
      "text/plain": [
       "44674"
      ]
     },
     "execution_count": 3,
     "metadata": {},
     "output_type": "execute_result"
    }
   ],
   "source": [
    "import pickle\n",
    "import gzip\n",
    "\n",
    "# Load the dictionary from the .gz file\n",
    "with gzip.open('author_embeddings.pkl.gz', 'rb') as f:\n",
    "    author_embeddings = pickle.load(f)\n",
    "len(author_embeddings)"
   ]
  },
  {
   "cell_type": "code",
   "execution_count": 4,
   "metadata": {},
   "outputs": [],
   "source": [
    "author_embeddings = { **author_embeddings, **dataset_index_embeddings }"
   ]
  },
  {
   "cell_type": "code",
   "execution_count": 5,
   "metadata": {},
   "outputs": [],
   "source": [
    "import pandas as pd\n",
    "authors = pd.read_csv('/data/jx4237data/projects/web_page/cm4ai_tkg/work/data/author_dataset.csv')"
   ]
  },
  {
   "cell_type": "code",
   "execution_count": 34,
   "metadata": {},
   "outputs": [],
   "source": [
    "author_id_set = set(authors['id'].to_list()) & set(author_embeddings.keys())"
   ]
  },
  {
   "cell_type": "code",
   "execution_count": 36,
   "metadata": {},
   "outputs": [],
   "source": [
    "authors = authors[authors['id'].isin(author_id_set)]"
   ]
  },
  {
   "cell_type": "code",
   "execution_count": 53,
   "metadata": {},
   "outputs": [
    {
     "data": {
      "text/html": [
       "<div>\n",
       "<style scoped>\n",
       "    .dataframe tbody tr th:only-of-type {\n",
       "        vertical-align: middle;\n",
       "    }\n",
       "\n",
       "    .dataframe tbody tr th {\n",
       "        vertical-align: top;\n",
       "    }\n",
       "\n",
       "    .dataframe thead th {\n",
       "        text-align: right;\n",
       "    }\n",
       "</style>\n",
       "<table border=\"1\" class=\"dataframe\">\n",
       "  <thead>\n",
       "    <tr style=\"text-align: right;\">\n",
       "      <th></th>\n",
       "      <th>id</th>\n",
       "      <th>FullName</th>\n",
       "      <th>BeginYear</th>\n",
       "      <th>PaperNum</th>\n",
       "      <th>CM4AI</th>\n",
       "      <th>RecentYear</th>\n",
       "      <th>Index</th>\n",
       "      <th>is_author</th>\n",
       "    </tr>\n",
       "  </thead>\n",
       "  <tbody>\n",
       "    <tr>\n",
       "      <th>0</th>\n",
       "      <td>225</td>\n",
       "      <td>Baba Inusa</td>\n",
       "      <td>2005</td>\n",
       "      <td>102</td>\n",
       "      <td>NaN</td>\n",
       "      <td>2024</td>\n",
       "      <td>0</td>\n",
       "      <td>1</td>\n",
       "    </tr>\n",
       "    <tr>\n",
       "      <th>1</th>\n",
       "      <td>878</td>\n",
       "      <td>Rutger Schutten</td>\n",
       "      <td>2017</td>\n",
       "      <td>5</td>\n",
       "      <td>NaN</td>\n",
       "      <td>2022</td>\n",
       "      <td>1</td>\n",
       "      <td>1</td>\n",
       "    </tr>\n",
       "    <tr>\n",
       "      <th>2</th>\n",
       "      <td>1098</td>\n",
       "      <td>Vardit Ravitsky (CM4AI)</td>\n",
       "      <td>2002</td>\n",
       "      <td>192</td>\n",
       "      <td>1.0</td>\n",
       "      <td>2023</td>\n",
       "      <td>2</td>\n",
       "      <td>1</td>\n",
       "    </tr>\n",
       "    <tr>\n",
       "      <th>3</th>\n",
       "      <td>1352</td>\n",
       "      <td>Ursula Grohmann</td>\n",
       "      <td>1988</td>\n",
       "      <td>158</td>\n",
       "      <td>NaN</td>\n",
       "      <td>2023</td>\n",
       "      <td>3</td>\n",
       "      <td>1</td>\n",
       "    </tr>\n",
       "    <tr>\n",
       "      <th>4</th>\n",
       "      <td>1592</td>\n",
       "      <td>Sharon R Lewin</td>\n",
       "      <td>1993</td>\n",
       "      <td>373</td>\n",
       "      <td>NaN</td>\n",
       "      <td>2023</td>\n",
       "      <td>4</td>\n",
       "      <td>1</td>\n",
       "    </tr>\n",
       "    <tr>\n",
       "      <th>...</th>\n",
       "      <td>...</td>\n",
       "      <td>...</td>\n",
       "      <td>...</td>\n",
       "      <td>...</td>\n",
       "      <td>...</td>\n",
       "      <td>...</td>\n",
       "      <td>...</td>\n",
       "      <td>...</td>\n",
       "    </tr>\n",
       "    <tr>\n",
       "      <th>29526</th>\n",
       "      <td>123000001136</td>\n",
       "      <td>wFleaBase</td>\n",
       "      <td>2020</td>\n",
       "      <td>100</td>\n",
       "      <td>0.0</td>\n",
       "      <td>0</td>\n",
       "      <td>29526</td>\n",
       "      <td>0</td>\n",
       "    </tr>\n",
       "    <tr>\n",
       "      <th>29527</th>\n",
       "      <td>123000001137</td>\n",
       "      <td>yMGV - Yeast microarray global viewer</td>\n",
       "      <td>2020</td>\n",
       "      <td>100</td>\n",
       "      <td>1.0</td>\n",
       "      <td>0</td>\n",
       "      <td>29527</td>\n",
       "      <td>0</td>\n",
       "    </tr>\n",
       "    <tr>\n",
       "      <th>29528</th>\n",
       "      <td>123000001138</td>\n",
       "      <td>Protein-Protein Interaction Dataset (The Kroga...</td>\n",
       "      <td>2020</td>\n",
       "      <td>100</td>\n",
       "      <td>1.0</td>\n",
       "      <td>0</td>\n",
       "      <td>29528</td>\n",
       "      <td>0</td>\n",
       "    </tr>\n",
       "    <tr>\n",
       "      <th>29529</th>\n",
       "      <td>123000001139</td>\n",
       "      <td>Genetic Perturbations Dataset (Mali Lab)</td>\n",
       "      <td>2020</td>\n",
       "      <td>100</td>\n",
       "      <td>1.0</td>\n",
       "      <td>0</td>\n",
       "      <td>29529</td>\n",
       "      <td>0</td>\n",
       "    </tr>\n",
       "    <tr>\n",
       "      <th>29530</th>\n",
       "      <td>123000001140</td>\n",
       "      <td>Protein Imaging Dataset (Lundberg Lab)</td>\n",
       "      <td>2020</td>\n",
       "      <td>100</td>\n",
       "      <td>1.0</td>\n",
       "      <td>0</td>\n",
       "      <td>29530</td>\n",
       "      <td>0</td>\n",
       "    </tr>\n",
       "  </tbody>\n",
       "</table>\n",
       "<p>29531 rows × 8 columns</p>\n",
       "</div>"
      ],
      "text/plain": [
       "                 id                                           FullName  \\\n",
       "0               225                                         Baba Inusa   \n",
       "1               878                                    Rutger Schutten   \n",
       "2              1098                            Vardit Ravitsky (CM4AI)   \n",
       "3              1352                                    Ursula Grohmann   \n",
       "4              1592                                     Sharon R Lewin   \n",
       "...             ...                                                ...   \n",
       "29526  123000001136                                          wFleaBase   \n",
       "29527  123000001137              yMGV - Yeast microarray global viewer   \n",
       "29528  123000001138  Protein-Protein Interaction Dataset (The Kroga...   \n",
       "29529  123000001139           Genetic Perturbations Dataset (Mali Lab)   \n",
       "29530  123000001140             Protein Imaging Dataset (Lundberg Lab)   \n",
       "\n",
       "       BeginYear  PaperNum  CM4AI  RecentYear  Index  is_author  \n",
       "0           2005       102    NaN        2024      0          1  \n",
       "1           2017         5    NaN        2022      1          1  \n",
       "2           2002       192    1.0        2023      2          1  \n",
       "3           1988       158    NaN        2023      3          1  \n",
       "4           1993       373    NaN        2023      4          1  \n",
       "...          ...       ...    ...         ...    ...        ...  \n",
       "29526       2020       100    0.0           0  29526          0  \n",
       "29527       2020       100    1.0           0  29527          0  \n",
       "29528       2020       100    1.0           0  29528          0  \n",
       "29529       2020       100    1.0           0  29529          0  \n",
       "29530       2020       100    1.0           0  29530          0  \n",
       "\n",
       "[29531 rows x 8 columns]"
      ]
     },
     "execution_count": 53,
     "metadata": {},
     "output_type": "execute_result"
    }
   ],
   "source": [
    "authors = authors.reset_index(drop=True)\n",
    "authors['Index'] = authors.index\n",
    "authors"
   ]
  },
  {
   "cell_type": "code",
   "execution_count": 54,
   "metadata": {},
   "outputs": [],
   "source": [
    "index2aid = authors.groupby('Index')['id'].apply(lambda x: x.iloc[0]).to_dict()\n",
    "aid2index = {v: k for k, v in index2aid.items()}\n",
    "author_embeddings_single = {int(k): v for k, v in author_embeddings.items() if k in aid2index}"
   ]
  },
  {
   "cell_type": "code",
   "execution_count": 55,
   "metadata": {},
   "outputs": [
    {
     "name": "stderr",
     "output_type": "stream",
     "text": [
      "100%|██████████| 29531/29531 [00:08<00:00, 3312.11it/s]\n"
     ]
    },
    {
     "data": {
      "text/plain": [
       "'/data/jx4237data/projects/web_page/talentKnowledgeGraph/work/data/tkg_28kAuthor_Dataset.w2v'"
      ]
     },
     "execution_count": 55,
     "metadata": {},
     "output_type": "execute_result"
    }
   ],
   "source": [
    "from tqdm import tqdm\n",
    "fname = f\"/data/jx4237data/projects/web_page/talentKnowledgeGraph/work/data/tkg_28kAuthor_Dataset.w2v\"\n",
    "with open(fname, 'wt') as f:\n",
    "    tab = ' '\n",
    "    nl = '\\n'\n",
    "    f.write(f\"{len(author_embeddings_single)}{tab}768{nl}\")\n",
    "    for key, embedding in tqdm(author_embeddings_single.items()):\n",
    "        f.write(f\"{aid2index[key]}{tab}{tab.join(map(str, embedding))}{nl}\")\n",
    "fname"
   ]
  },
  {
   "cell_type": "code",
   "execution_count": 56,
   "metadata": {},
   "outputs": [],
   "source": [
    "import numpy as np\n",
    "import matplotlib.pyplot as plt\n",
    "import math\n",
    "from gensim.models import KeyedVectors\n",
    "import pandas as pd\n",
    "import emblaze\n",
    "from emblaze.utils import Field, ProjectionTechnique\n",
    "from collections import defaultdict, namedtuple"
   ]
  },
  {
   "cell_type": "code",
   "execution_count": 57,
   "metadata": {},
   "outputs": [],
   "source": [
    "wv = KeyedVectors.load_word2vec_format(fname)"
   ]
  },
  {
   "cell_type": "code",
   "execution_count": 58,
   "metadata": {},
   "outputs": [],
   "source": [
    "all_author_pd = pd.read_csv('/data/jx4237data/projects/web_page/cm4ai_tkg/work/data/author_dataset.csv')\n",
    "all_author_pd = all_author_pd[all_author_pd['id'].isin(set(author_embeddings_single.keys()))]"
   ]
  },
  {
   "cell_type": "code",
   "execution_count": 74,
   "metadata": {},
   "outputs": [],
   "source": [
    "all_author_pd.to_csv('/data/jx4237data/projects/web_page/cm4ai_tkg/work/data/author_dataset_filtered.csv', index=False)"
   ]
  },
  {
   "cell_type": "code",
   "execution_count": 59,
   "metadata": {},
   "outputs": [
    {
     "name": "stdout",
     "output_type": "stream",
     "text": [
      "author count: 29531; wv len: 29531\n"
     ]
    }
   ],
   "source": [
    "all_authors = []\n",
    "all_author_pd = all_author_pd.reset_index(drop=True)\n",
    "all_author_pd['index'] = all_author_pd.index\n",
    "for author in all_author_pd.itertuples(index=False):\n",
    "    all_authors.append(author)\n",
    "print(f\"author count: {len(all_authors)}; wv len: {len(wv.index_to_key)}\")"
   ]
  },
  {
   "cell_type": "code",
   "execution_count": 60,
   "metadata": {},
   "outputs": [],
   "source": [
    "def ix_to_ix(ix):\n",
    "    return int(wv.index_to_key[ix])\n",
    "\n",
    "def author_by_ix(ix):\n",
    "    ix = ix_to_ix(ix)\n",
    "    try: \n",
    "        all_authors[ix]\n",
    "    except:\n",
    "        print(f\"ix: {ix}\")\n",
    "    return all_authors[ix]"
   ]
  },
  {
   "cell_type": "code",
   "execution_count": 61,
   "metadata": {},
   "outputs": [
    {
     "data": {
      "text/plain": [
       "29531"
      ]
     },
     "execution_count": 61,
     "metadata": {},
     "output_type": "execute_result"
    }
   ],
   "source": [
    "len(wv.vectors)"
   ]
  },
  {
   "cell_type": "code",
   "execution_count": 62,
   "metadata": {},
   "outputs": [],
   "source": [
    "positions = wv.vectors\n",
    "names = [author_by_ix(index).FullName for index in range(len(wv.vectors))]\n",
    "colors = [author_by_ix(index).BeginYear if int(author_by_ix(index).BeginYear) > 1980 else 1980 for index in range(len(wv.vectors))]\n",
    "sizes = [math.sqrt(author_by_ix(index).PaperNum)/6.  for index in range(len(wv.vectors))]\n",
    "\n",
    "emb = emblaze.Embedding({Field.POSITION: positions, Field.NAME: names, Field.COLOR: colors, Field.RADIUS: sizes}, n_neighbors=20,)\n",
    "# neighbors id are just from 0 to n-1, need wv.index_to_key to get the real index\n",
    "emb.compute_neighbors(metric='cosine')"
   ]
  },
  {
   "cell_type": "code",
   "execution_count": 63,
   "metadata": {},
   "outputs": [],
   "source": [
    "import json\n",
    "import math\n",
    "\n",
    "projection = emb.project(method=ProjectionTechnique.TSNE, perplexity=40, learning_rate='auto', init='pca', early_exaggeration=1.3)\n",
    "\n",
    "serialized = projection.to_json(compressed=False, save_neighbors=False)"
   ]
  },
  {
   "cell_type": "code",
   "execution_count": 64,
   "metadata": {},
   "outputs": [],
   "source": [
    "serialized['ids'] = [author_by_ix(i).id for i in range(len(wv.index_to_key))]"
   ]
  },
  {
   "cell_type": "code",
   "execution_count": 65,
   "metadata": {},
   "outputs": [],
   "source": [
    "neighbors_json = emb.get_neighbors().to_json(compressed=False)"
   ]
  },
  {
   "cell_type": "code",
   "execution_count": 66,
   "metadata": {},
   "outputs": [],
   "source": [
    "df_rec_authors = pd.read_csv('/data/jx4237data/projects/web_page/talentKnowledgeGraph/notebooks/talentKnowledgeGraph/author_recommendations.csv.gz', compression='gzip')"
   ]
  },
  {
   "cell_type": "code",
   "execution_count": 67,
   "metadata": {},
   "outputs": [],
   "source": [
    "df_rec_authors['AID_index'] = df_rec_authors['AID'].apply(lambda x: wv.key_to_index.get(str(aid2index.get(x))))\n",
    "df_rec_authors['recommended_author_id_index'] = df_rec_authors['recommended_author_id'].apply(lambda x: wv.key_to_index.get(str(aid2index.get(x))))\n",
    "df_rec_authors.dropna(subset=['AID_index', 'recommended_author_id_index'], inplace=True)\n",
    "df_rec_authors['AID_index'] = df_rec_authors['AID_index'].astype(int)\n",
    "df_rec_authors['recommended_author_id_index'] = df_rec_authors['recommended_author_id_index'].astype(int)\n",
    "result_dict = df_rec_authors.groupby('AID_index')['recommended_author_id_index'].apply(list).to_dict()"
   ]
  },
  {
   "cell_type": "code",
   "execution_count": 75,
   "metadata": {},
   "outputs": [],
   "source": [
    "df_rec_authors_dataset = pd.read_csv('/data/jx4237data/projects/web_page/talentKnowledgeGraph/notebooks/talentKnowledgeGraph/dataset_author_recommendations.csv.gz', compression='gzip')\n",
    "\n",
    "df_rec_authors_dataset['DatasetID_index'] = df_rec_authors_dataset['DatasetID'].apply(lambda x: wv.key_to_index.get(str(aid2index.get(x))))\n",
    "df_rec_authors_dataset['recommended_author_id_index'] = df_rec_authors_dataset['recommended_author_id'].apply(lambda x: wv.key_to_index.get(str(aid2index.get(x))))\n",
    "df_rec_authors_dataset.dropna(subset=['DatasetID_index', 'recommended_author_id_index'], inplace=True)\n",
    "df_rec_authors_dataset['DatasetID_index'] = df_rec_authors_dataset['DatasetID_index'].astype(int)\n",
    "df_rec_authors_dataset['recommended_author_id_index'] = df_rec_authors_dataset['recommended_author_id_index'].astype(int)\n",
    "result_dict_dataset = df_rec_authors_dataset.groupby('DatasetID_index')['recommended_author_id_index'].apply(list).to_dict()"
   ]
  },
  {
   "cell_type": "code",
   "execution_count": 77,
   "metadata": {},
   "outputs": [],
   "source": [
    "result_dict = {**result_dict, **result_dict_dataset}"
   ]
  },
  {
   "cell_type": "code",
   "execution_count": 78,
   "metadata": {},
   "outputs": [],
   "source": [
    "neighbors_json['neighbors'] = result_dict"
   ]
  },
  {
   "cell_type": "code",
   "execution_count": 79,
   "metadata": {},
   "outputs": [],
   "source": [
    "serialized['neighbors'] = neighbors_json\n",
    "with open('/data/jx4237data/projects/web_page/cm4ai_tkg/work/data/tkg_ebd_34k_dataset.json', 'wt') as f:\n",
    "    f.write(json.dumps(serialized))"
   ]
  }
 ],
 "metadata": {
  "kernelspec": {
   "display_name": "faisis_1.7",
   "language": "python",
   "name": "python3"
  },
  "language_info": {
   "codemirror_mode": {
    "name": "ipython",
    "version": 3
   },
   "file_extension": ".py",
   "mimetype": "text/x-python",
   "name": "python",
   "nbconvert_exporter": "python",
   "pygments_lexer": "ipython3",
   "version": "3.10.13"
  }
 },
 "nbformat": 4,
 "nbformat_minor": 2
}
